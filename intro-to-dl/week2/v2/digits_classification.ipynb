{
 "cells": [
  {
   "cell_type": "markdown",
   "metadata": {
    "slideshow": {
     "slide_type": "slide"
    }
   },
   "source": [
    "# MNIST digits classification with TensorFlow"
   ]
  },
  {
   "cell_type": "markdown",
   "metadata": {},
   "source": [
    "<img src=\"images/mnist_sample.png\" style=\"width:30%\">"
   ]
  },
  {
   "cell_type": "code",
   "execution_count": 2,
   "metadata": {},
   "outputs": [
    {
     "name": "stderr",
     "output_type": "stream",
     "text": [
      "C:\\Users\\Joe\\Anaconda3\\lib\\site-packages\\h5py\\__init__.py:36: FutureWarning: Conversion of the second argument of issubdtype from `float` to `np.floating` is deprecated. In future, it will be treated as `np.float64 == np.dtype(float).type`.\n",
      "  from ._conv import register_converters as _register_converters\n"
     ]
    },
    {
     "name": "stdout",
     "output_type": "stream",
     "text": [
      "We're using TF 1.9.0\n"
     ]
    },
    {
     "name": "stderr",
     "output_type": "stream",
     "text": [
      "Using TensorFlow backend.\n"
     ]
    }
   ],
   "source": [
    "import numpy as np\n",
    "from sklearn.metrics import accuracy_score\n",
    "from matplotlib import pyplot as plt\n",
    "%matplotlib inline\n",
    "import tensorflow as tf\n",
    "print(\"We're using TF\", tf.__version__)\n",
    "\n",
    "import sys\n",
    "sys.path.append(\"../..\")\n",
    "import grading\n",
    "\n",
    "import matplotlib_utils\n",
    "from importlib import reload\n",
    "reload(matplotlib_utils)\n",
    "\n",
    "import grading_utils\n",
    "reload(grading_utils)\n",
    "\n",
    "import keras_utils\n",
    "from keras_utils import reset_tf_session"
   ]
  },
  {
   "cell_type": "markdown",
   "metadata": {},
   "source": [
    "# Fill in your Coursera token and email\n",
    "To successfully submit your answers to our grader, please fill in your Coursera submission token and email"
   ]
  },
  {
   "cell_type": "code",
   "execution_count": 3,
   "metadata": {},
   "outputs": [],
   "source": [
    "grader = grading.Grader(assignment_key=\"XtD7ho3TEeiHQBLWejjYAA\", \n",
    "                        all_parts=[\"9XaAS\", \"vmogZ\", \"RMv95\", \"i8bgs\", \"rE763\"])"
   ]
  },
  {
   "cell_type": "code",
   "execution_count": 80,
   "metadata": {},
   "outputs": [],
   "source": [
    "# token expires every 30 min\n",
    "COURSERA_TOKEN = \"DnS9TuFDDz7WBoqe\"\n",
    "COURSERA_EMAIL = \"mantarayk17@gmail.com\""
   ]
  },
  {
   "cell_type": "markdown",
   "metadata": {},
   "source": [
    "# Look at the data\n",
    "\n",
    "In this task we have 50000 28x28 images of digits from 0 to 9.\n",
    "We will train a classifier on this data."
   ]
  },
  {
   "cell_type": "code",
   "execution_count": 81,
   "metadata": {},
   "outputs": [],
   "source": [
    "import preprocessed_mnist\n",
    "X_train, y_train, X_val, y_val, X_test, y_test = preprocessed_mnist.load_dataset()"
   ]
  },
  {
   "cell_type": "code",
   "execution_count": 82,
   "metadata": {},
   "outputs": [
    {
     "name": "stdout",
     "output_type": "stream",
     "text": [
      "X_train [shape (50000, 28, 28)] sample patch:\n",
      " [[0.         0.29803922 0.96470588 0.98823529 0.43921569]\n",
      " [0.         0.33333333 0.98823529 0.90196078 0.09803922]\n",
      " [0.         0.33333333 0.98823529 0.8745098  0.        ]\n",
      " [0.         0.33333333 0.98823529 0.56862745 0.        ]\n",
      " [0.         0.3372549  0.99215686 0.88235294 0.        ]]\n",
      "A closeup of a sample patch:\n"
     ]
    },
    {
     "data": {
      "image/png": "[encoded data removed]",
      "text/plain": [
       "<Figure size 432x288 with 1 Axes>"
      ]
     },
     "metadata": {},
     "output_type": "display_data"
    },
    {
     "name": "stdout",
     "output_type": "stream",
     "text": [
      "And the whole sample:\n"
     ]
    },
    {
     "data": {
      "image/png": "[encoded data removed]",
      "text/plain": [
       "<Figure size 432x288 with 1 Axes>"
      ]
     },
     "metadata": {},
     "output_type": "display_data"
    },
    {
     "name": "stdout",
     "output_type": "stream",
     "text": [
      "y_train [shape (50000,)] 10 samples:\n",
      " [5 0 4 1 9 2 1 3 1 4]\n"
     ]
    }
   ],
   "source": [
    "# X contains rgb values divided by 255\n",
    "print(\"X_train [shape %s] sample patch:\\n\" % (str(X_train.shape)), X_train[1, 15:20, 5:10])\n",
    "print(\"A closeup of a sample patch:\")\n",
    "plt.imshow(X_train[1, 15:20, 5:10], cmap=\"Greys\")\n",
    "plt.show()\n",
    "print(\"And the whole sample:\")\n",
    "plt.imshow(X_train[1], cmap=\"Greys\")\n",
    "plt.show()\n",
    "print(\"y_train [shape %s] 10 samples:\\n\" % (str(y_train.shape)), y_train[:10])"
   ]
  },
  {
   "cell_type": "markdown",
   "metadata": {},
   "source": [
    "# Linear model\n",
    "\n",
    "Your task is to train a linear classifier $\\vec{x} \\rightarrow y$ with SGD using TensorFlow.\n",
    "\n",
    "You will need to calculate a logit (a linear transformation) $z_k$ for each class: \n",
    "$$z_k = \\vec{x} \\cdot \\vec{w_k} + b_k \\quad k = 0..9$$\n",
    "\n",
    "And transform logits $z_k$ to valid probabilities $p_k$ with softmax: \n",
    "$$p_k = \\frac{e^{z_k}}{\\sum_{i=0}^{9}{e^{z_i}}} \\quad k = 0..9$$\n",
    "\n",
    "We will use a cross-entropy loss to train our multi-class classifier:\n",
    "$$\\text{cross-entropy}(y, p) = -\\sum_{k=0}^{9}{\\log(p_k)[y = k]}$$ \n",
    "\n",
    "where \n",
    "$$\n",
    "[x]=\\begin{cases}\n",
    "       1, \\quad \\text{if $x$ is true} \\\\\n",
    "       0, \\quad \\text{otherwise}\n",
    "    \\end{cases}\n",
    "$$\n",
    "\n",
    "Cross-entropy minimization pushes $p_k$ close to 1 when $y = k$, which is what we want.\n",
    "\n",
    "Here's the plan:\n",
    "* Flatten the images (28x28 -> 784) with `X_train.reshape((X_train.shape[0], -1))` to simplify our linear model implementation\n",
    "* Use a matrix placeholder for flattened `X_train`\n",
    "* Convert `y_train` to one-hot encoded vectors that are needed for cross-entropy\n",
    "* Use a shared variable `W` for all weights (a column $\\vec{w_k}$ per class) and `b` for all biases.\n",
    "* Aim for ~0.93 validation accuracy"
   ]
  },
  {
   "cell_type": "code",
   "execution_count": 83,
   "metadata": {},
   "outputs": [
    {
     "name": "stdout",
     "output_type": "stream",
     "text": [
      "(50000, 784)\n",
      "(10000, 784)\n"
     ]
    }
   ],
   "source": [
    "X_train_flat = X_train.reshape((X_train.shape[0], -1))\n",
    "print(X_train_flat.shape)\n",
    "\n",
    "X_val_flat = X_val.reshape((X_val.shape[0], -1))\n",
    "print(X_val_flat.shape)"
   ]
  },
  {
   "cell_type": "code",
   "execution_count": 84,
   "metadata": {},
   "outputs": [
    {
     "name": "stdout",
     "output_type": "stream",
     "text": [
      "(50000, 10)\n",
      "[[0. 0. 0. 0. 0. 1. 0. 0. 0. 0.]\n",
      " [1. 0. 0. 0. 0. 0. 0. 0. 0. 0.]\n",
      " [0. 0. 0. 0. 1. 0. 0. 0. 0. 0.]] [5 0 4]\n",
      "(10,)\n"
     ]
    }
   ],
   "source": [
    "import keras\n",
    "\n",
    "y_train_oh = keras.utils.to_categorical(y_train, 10)\n",
    "y_val_oh = keras.utils.to_categorical(y_val, 10)\n",
    "\n",
    "print(y_train_oh.shape)\n",
    "print(y_train_oh[:3], y_train[:3])\n",
    "print(np.unique(y_train).shape)"
   ]
  },
  {
   "cell_type": "code",
   "execution_count": 85,
   "metadata": {},
   "outputs": [],
   "source": [
    "# run this again if you remake your graph\n",
    "s = reset_tf_session()"
   ]
  },
  {
   "cell_type": "code",
   "execution_count": 86,
   "metadata": {},
   "outputs": [],
   "source": [
    "# Model parameters: W and b\n",
    "W = tf.get_variable(\"W\", shape=(784, 10), dtype=tf.float32) ### YOUR CODE HERE ### tf.get_variable(...) with shape[0] = 784\n",
    "b = tf.get_variable(\"b\", shape=(10), dtype=tf.float32) ### YOUR CODE HERE ### tf.get_variable(...)"
   ]
  },
  {
   "cell_type": "code",
   "execution_count": 87,
   "metadata": {},
   "outputs": [],
   "source": [
    "# Placeholders for the input data\n",
    "input_X = tf.placeholder(dtype=tf.float32, shape=(None, 784)) ### YOUR CODE HERE ### tf.placeholder(...) for flat X with shape[0] = None for any batch size\n",
    "input_y = tf.placeholder(dtype=tf.float32, shape=(None, 10)) ### YOUR CODE HERE ### tf.placeholder(...) for one-hot encoded true labels"
   ]
  },
  {
   "cell_type": "code",
   "execution_count": 88,
   "metadata": {},
   "outputs": [
    {
     "name": "stdout",
     "output_type": "stream",
     "text": [
      "(?, 10)\n",
      "(?, 10)\n",
      "(?,)\n"
     ]
    }
   ],
   "source": [
    "# Compute predictions\n",
    "logits = tf.matmul(input_X, W) ### YOUR CODE HERE ### logits for input_X, resulting shape should be [input_X.shape[0], 10]\n",
    "print(logits.shape)\n",
    "probas =  tf.nn.softmax(logits) ### YOUR CODE HERE ### apply tf.nn.softmax to logits\n",
    "print(probas.shape)\n",
    "classes = tf.argmax(probas, axis=1) ### YOUR CODE HERE ### apply tf.argmax to find a class index with highest probability\n",
    "print(classes.shape)\n",
    "\n",
    "# Loss should be a scalar number: average loss over all the objects with tf.reduce_mean().\n",
    "# Use tf.nn.softmax_cross_entropy_with_logits on top of one-hot encoded input_y and logits.\n",
    "# It is identical to calculating cross-entropy on top of probas, but is more numerically friendly (read the docs).\n",
    "loss = tf.reduce_mean(tf.nn.softmax_cross_entropy_with_logits(labels=input_y, logits=logits)) ### YOUR CODE HERE ### cross-entropy loss\n",
    "\n",
    "# Use a default tf.train.AdamOptimizer to get an SGD step\n",
    "step = tf.train.AdamOptimizer().minimize(loss) ### YOUR CODE HERE ### optimizer step that minimizes the loss"
   ]
  },
  {
   "cell_type": "code",
   "execution_count": 98,
   "metadata": {
    "scrolled": false
   },
   "outputs": [
    {
     "data": {
      "text/html": [
       "<img src=\"data:image/jpeg;base64,/9j/4AAQSkZJRgABAQEASABIAAD/2wBDAAIBAQEBAQIBAQECAgICAgQDAgICAgUEBAMEBgUGBgYFBgYGBwkIBgcJBwYGCAsICQoKCgoKBggLDAsKDAkKCgr/2wBDAQICAgICAgUDAwUKBwYHCgoKCgoKCgoKCgoKCgoKCgoKCgoKCgoKCgoKCgoKCgoKCgoKCgoKCgoKCgoKCgoKCgr/wAARCAEgA2ADASIAAhEBAxEB/8QAHwAAAQUBAQEBAQEAAAAAAAAAAAECAwQFBgcICQoL/8QAtRAAAgEDAwIEAwUFBAQAAAF9AQIDAAQRBRIhMUEGE1FhByJxFDKBkaEII0KxwRVS0fAkM2JyggkKFhcYGRolJicoKSo0NTY3ODk6Q0RFRkdISUpTVFVWV1hZWmNkZWZnaGlqc3R1dnd4eXqDhIWGh4iJipKTlJWWl5iZmqKjpKWmp6ipqrKztLW2t7i5usLDxMXGx8jJytLT1NXW19jZ2uHi4%2BTl5ufo6erx8vP09fb3%2BPn6/8QAHwEAAwEBAQEBAQEBAQAAAAAAAAECAwQFBgcICQoL/8QAtREAAgECBAQDBAcFBAQAAQJ3AAECAxEEBSExBhJBUQdhcRMiMoEIFEKRobHBCSMzUvAVYnLRChYkNOEl8RcYGRomJygpKjU2Nzg5OkNERUZHSElKU1RVVldYWVpjZGVmZ2hpanN0dXZ3eHl6goOEhYaHiImKkpOUlZaXmJmaoqOkpaanqKmqsrO0tba3uLm6wsPExcbHyMnK0tPU1dbX2Nna4uPk5ebn6Onq8vP09fb3%2BPn6/9oADAMBAAIRAxEAPwD9/KKKKACiiigAooooAKKKKACiiigAooooAKKKKACiiigAooooAKKKKACiiigAooooAKKKKACiiigAooooAKKKKACiiigAooooAKKKKACiiigAooooAKKKKACiiigAooooAKKKKACiiigAooooAKKKKACiiigAooooAKKKKACiiigAooooAKKKKACiiigAooooAKKKKACiiigAooooAKKKKACiiigAooooAKKKKACiiigAooooAKKKKACiiigAooooAKKKKACiiigAooooAKKKKACiiigAooooAKKKKACiiigAooooAKKKKACiiigAooooAKKKKACiiigAooooAKKKKACiiigAooooAKKKKACvPfjt%2B1J8FP2b5NGsfil4g1Maj4ilnTQNB8OeF9R1zVNR8lVed4bHTbee5kjiVkMkixlI96biu5c%2BhV4N%2B0P8D/j5/wANJ%2BDv2tv2bLLwfrWueH/B2seFNX8KeOdcutLtLywv7mwuxcQXtraXj288U2noCpt3WVJSCUKK1ABpf/BTL9izWLvxNb2nxXv0h8FWsk/jLUrvwXrEFjoIS0iu9l5dy2iwWsrQzRskMjrJIWKorMrKL2n/APBQ/wDZK1HwBrXxFTx/q9vB4f1ay0vVdE1DwNrNrrkV5ebfscC6PNaLqEr3AYGER27eaAxTcFYjy2b9gH4y%2BMf2a/jn8NfGHinwppHin4o/FS38daHc6U1xeWFpeW0OiywQ3IkihkkiN3pRRwoyYHGDuJVaPi79i/8AaV%2BLmr/Ef45fG34S/CjWvFnjWx8KaPp/gKy%2BI2s2Wm6fY6Hcaldw3qa7b6al5DqDXOqTOksVoPJSKNFZiWcgHsviH9vv9mzwv4a8OeI9XvvG3meK0v5NE8P2vwm8SXGuSRWUscV3NJpMWntf28MLzQq8s0CIpmiy37xM%2Bmaz8RPBHhv4e3XxX8T%2BJbbSvDljo76rf6vqrfZYbSySIzPPMZdvlKsYLNvxtAOcYNfGHin9hH9s/WPgV4X8Nay3hfxV470a58RHRfGd/wDHbxNpGr%2BCLW%2BuUktLO11q1sJLzXIYkjhWZb1YftJtovMBCjHqPxo/4J0Wvx6/Zu8T/Dj4hfHPxrd%2BO/GHwvj8M694pbxtrQ0ea%2BW0hibUE0Jb5bC3Z5oFlbyIopCHkAkVpGcgHRwf8FKP2Mv%2BFc%2BK/itrHxWvdE0bwRZWV94ofxP4O1fSbmysryYw2t79lvLWK4ktJZFZUuY42hby3IfCMRyHxu/4Kyfs7/DP4Iap8Y/Aei%2BKvFU2g/EHwv4X13wx/wAILrtjqdgdZ1K1tY7p7OTTmuvK8i4eeBvJ8u8eNLeGQyTxg%2BV6p/wTE%2BMnjv4VePtI8ReBvDejeMfEeh6Po9h4h1X9ovxn43W7tLXWLfUJo5P7dgP2CM%2BSxSKJZjvfDSYyT3/7UP7Bnxp%2BMHxB%2BL/xB8C%2BIfC8cni%2BD4W3nhKz1a%2BuYle/8J%2BI7nWpYbxo7eTyIbgNbwrLGJnXLsY/kVXAPULD/goJ%2By3qPxNsvgzD4n8TR%2BK7zRdP1iXQLv4b69Bc6dp9606QXd%2Bklkp06Hdbyq8l15SxEKJChdN1Hw1/wUw/Yp8W%2BDPFnxC0j4wXCaP4L8EXXjLWL3UPCWq2guPD1ujPNq1is9qjapZqqHE9mJ42LIFYl0DYOh/sh/FD4h/Ez43fEH44L4e0GL40fB3w74QurHwnrtxqMul3Fomupdss89na%2BZGBqsRifYrMUk3Rx4G75u/bG/ZU/ah0f9hj4pfE39pi78AWkPwh/Yp%2BIPgjwvH4C1C8uG15r3SLYz6jdLc20AsVCaRbhLONrgK00hM7bUFAH1n4e/4KS/sZeJtD1jxHp/xauoLPQ00qa%2Bk1TwlqtkzWmpXa2djqEK3FqjXNhLOwUX0Ie1UBnaVUVmHp%2BifF34eeI/ilr/wX0PxD9p8SeFtL0/UNfsI7SbbZwXzXAtd0xTyi7/ZZj5SuZFUIzKqyRlvknUP2Z/EHivQPFPxt/wCCkXi/4Z%2BE/Alv%2Bz3c/DqS48P%2BIJltZtNvZIZLzVbya9gt0sHJgthDbIZxATJ/pEhZcdh/wR88B/F2y/ZHtfj/APtIagb74k/F68j8T%2BK9Qeze3aSEWkFlpq%2BVJ88P/EutLSRomwUlmmyAxbIB9VUUUUAFFFFABRRRQAUUUUAFFFFABRRRQAUUUUAFFFFABRRRQAUUUUAFFFFABRRRQAUUUUAFFFFABRRRQAUUUUAFFFFABRRRQAV4jpH/AAUY/Y91K716z1P4pXnh5vDnhy58QahJ418I6roMc2k27pHPf2smpWsC31ujyRK0tsZUBljGcuufab2K5ms5YbO6EEzxMsUxj3%2BWxHDbT1wecd6/MTV/%2BCOX7cvxf1bwvrnxu%2BOOhvrfhrwfqFnqHijUPit4m8TjxDrf2zSr611E6XfRQ2Wk20lzpi%2BfYWQCiOTassgVAoB9sv8At/8A7MNr8NG%2BLGseIPFWlaW2uQaNY2eufDLX7DVNTv5kMkMFlptxYpe37SIGdfs8MgZUdgSEYjovAf7VnwP%2BI%2Bv2XhPw54h1SHV7/wAKT%2BJIdI1rwrqWmXaabDd/ZJZZYby3ikgdZ/kMMirL32bea8m%2BJ3wc/bd%2BMTfD342654N%2BFWh/EP4UeOptY8P%2BGbXxxqV/ouuWdxpN3plzHcXz6VDNYzFL2SSN0tbgRmIKfMEjYq/En4Dftwa/8ZfDv7TXgfRvhXaeLL74Yar4L8Y6FqXivUpLDSFuL%2BG6tb%2ByuE04SagYhG6yW8sVoJS4xLFjkA7jSf8Ago3%2ByB4j17wL4W8K/EbVdZ1P4k%2BDdK8W%2BDdO0TwPrN7PeaHqL7LXUZEgtGa1t92PMknEa24ZTN5QYE7Hw1/bc/Zu%2BK/xGufhP4Z8X6tZ6/b6Xc6nDZeJ/BmraIt/Y28iRz3dlLqNrBHfwRvLEHltmkRfMQkgMpPlH7Cn7CXxY/Zh1/4caz488QeGrs%2BDv2UvCPwxv30i5nlZtW0t5muZovMgj3Wrb02MxV22/NGmBXjXw0/4JV/tjeJ/ij4X8TftTfGGz1SLT/AHivwv408TQfF/xJrV54il1exS2/tO10y%2Bhj0/QjlSxtLRSi5UCZxGq0AfUvhP/gov%2ByP410WPxVoPjvXP7DuNV0vT9P8AEt78P9btdK1GXUr2OyspLS%2Bns0tryCW5mijFxBI8IMqFnCsCfS/C3xd%2BHnjX4geKfhd4X8Q/a9c8FyWcfie0S0mC2Ml1B9ogjMrII3doSshRGZkWSMsFEibvmHxx4E%2BIvhX/AIJ7eNPgR/wUM8T/AAq8EeAtB%2BGkWgW3xM8O%2BLbsM06RpbWupPaXVnAmmzLMLeSGCO4umM5REcnaG7X/AIJX/D74seG/2RNK%2BKv7RVglv8TvixfS%2BOviJClu0X2e/v1jMNpsb5k%2By2MdlZ7TkgWuDQB9G0UUUAFFFFABRRRQAUUUUAFFFFABRRRQAUUUUAFFFFABRRRQAUUUUAFFFFABRRRQAUUUUAFFFFABRRRQAUUUUAFFFFABRRRQAUUUUAFeL/Hrx/8AtF/8NF%2BBfgR8BfGfgrw%2Bmv8AgrxLr2r6n4v8F3etEnTrvQ7eGGGO31Kx8sN/akrMzM%2BfLQALyT7RXhPxH12Ow/4KV/B/Q5QP9P8Agp8QzG2ed8eq%2BDWx/wB8lj%2BFJtLcuFOdR2iujf3K7/A0P%2BEH/wCChf8A0dB8Gf8Aww%2Brf/NRR/wg/wDwUL/6Og%2BDP/hh9W/%2BaivZqKZB4z/wg/8AwUL/AOjoPgz/AOGH1b/5qKP%2BEH/4KF/9HQfBn/ww%2Brf/ADUV7NRQB4z/AMIP/wAFC/8Ao6D4M/8Ahh9W/wDmoo/4Qf8A4KF/9HQfBn/ww%2Brf/NRXs1FAHjP/AAg//BQv/o6D4M/%2BGH1b/wCaij/hB/8AgoX/ANHQfBn/AMMPq3/zUV7NRQB4z/wg/wDwUL/6Og%2BDP/hh9W/%2Baij/AIQf/goX/wBHQfBn/wAMPq3/AM1FezUUAeM/8IP/AMFC/wDo6D4M/wDhh9W/%2Baij/hB/%2BChf/R0HwZ/8MPq3/wA1FezUUAeM/wDCD/8ABQv/AKOg%2BDP/AIYfVv8A5qKP%2BEH/AOChf/R0HwZ/8MPq3/zUV7NRQB4z/wAIP/wUL/6Og%2BDP/hh9W/8Amoo/4Qf/AIKF/wDR0HwZ/wDDD6t/81Feo%2BMxv0MQMTsmvrSKUA43I9zGrL9CpIPsa8x1/wDag/4J%2B%2BFNdvfC3in9oj4Oabqem3clrqOnah4u0qGe1njYpJFJG8oZHVgVZWAIIIIyKyq16FBJ1JqN%2B7S/No7sDleZ5pOUMFh6lVxV2qcJ1GltdqEJtK%2Bl2kr6XvoM/wCEH/4KF/8AR0HwZ/8ADD6t/wDNRR/wg/8AwUL/AOjoPgz/AOGH1b/5qKr/APDX/wDwTg/6Oi%2BCP/hbaP8A/Hat6B%2B1B/wT98V67ZeFvC37RHwc1LU9Su47XTtO0/xbpU091PIwSOKONJSzuzEKqqCSSABk1ksdgW7KrD/wOP8A8kehPhXimnBznl%2BISSbbdCukktW23QSSSTbbaSSbbSTYz/hB/wDgoX/0dB8Gf/DD6t/81FH/AAg//BQv/o6D4M/%2BGH1b/wCaitH9qv4l/Cr9lD9m/wAa/tJeKfhcuraf4K8PXGq3Wm6RogmuLlYlzsRY42IycZcjai5dyqqzDA0n9rD9kDXfGkvw40vw3r0viC18OLruoaIfg5ri3Wn2Dx3bxS3UTaeGtWlFjdLFHKEkmeMRxq7yRq3UeCXv%2BEH/AOChf/R0HwZ/8MPq3/zUUf8ACD/8FC/%2BjoPgz/4YfVv/AJqKpaZ%2B05%2BzB4mk8O/8Irplgh1nx1N4VvbDxL4S1HR9Rsb6PRrrVzC1lc2AmSU2tusyrcLbxvDJ5iysxijmb8FP2v8A9hf9oLRpvEfw28TaX/Z0Xh/T9dS/8ReEbvRYLnS75mW1vYJNRtoFubeR1KCWIuofCEhiBQBf/wCEH/4KF/8AR0HwZ/8ADD6t/wDNRR/wg/8AwUL/AOjoPgz/AOGH1b/5qKg/bQ%2BJV1%2By98ELv40%2BBf2d/DPi%2BLSLuFtdstR1ldK%2Bz2LNteeJ1s7nzpQxQLEVQNuOZEAzXffEi6%2BDfwl8A6x8TfHui6TY6NoWnS3upXR0tHKRRqWO1VUs7HGFRQWZiFUEkCgDiP8AhB/%2BChf/AEdB8Gf/AAw%2Brf8AzUUf8IP/AMFC/wDo6D4M/wDhh9W/%2BaivL9D/AGufG/if9i7Vf2vrT9kDwDoH/CKaj4ti8c%2BHfG3j17P%2BxrbQtQvbSaQXFppF2s0jCyd2j2KqE7VklA3G949/bF0z4cad8FtE8S/so6evjL4lXHh3/hNfDEepxFPA9vqlxBZ%2BZNcG1H2l1vJ/JiiMcJuBb3TgoIHFAHoX/CD/APBQv/o6D4M/%2BGH1b/5qKP8AhB/%2BChf/AEdB8Gf/AAw%2Brf8AzUVwng/9q%2BPxp8VbfwpYfsweG4PDHibxV4o8J/DzxPc6%2Bol1XXtCa7S5gu7VbE/YbaR9O1HyrhJblmS03NEvmIp5TXv25PFHw48N/FrWfi/%2ByR8ONK/4Vd4o8N%2BHp9X0z4iSXOiC91QW8k7399Po1u2nW1lb3tjPPOIZwEuDwChyAezf8IP/AMFC/wDo6D4M/wDhh9W/%2Baij/hB/%2BChf/R0HwZ/8MPq3/wA1FeO69%2B234ol/YhvP22/hx%2Byh8M9b0fRLfXpNZtpviLLFb6kNPupLa3k0S6g0W4Gqw3rRH7PI6W2/zIcKwkyva/F/4y/GH4SfET4Y%2BFLz9kH4b3th8R/FumeHwYviDMNUsriW0lvNQkS1GitDPHaW9reShvtMfmrAP9UXAAB1v/CD/wDBQv8A6Og%2BDP8A4YfVv/moo/4Qf/goX/0dB8Gf/DD6t/8ANRXMeE/2sfhL4r/av8XfAGP4RaNZ%2BFfCHhG71W7%2BI17cwR2s91ZXUdvqFukRix5Ns0oR7ky4E0NzEUBhLHy3Uf8Agpb4Vt/gjrvxjuP2YfB/huLT/jTZeB9P/wCFi%2BMo9DsjY3mmWepWurX1ydPlOn7re9iLWzRO0bfKzhshQD3n/hB/%2BChf/R0HwZ/8MPq3/wA1FH/CD/8ABQv/AKOg%2BDP/AIYfVv8A5qK4/wCPXx%2B8ZfBD9nhf2nbb9mb4ZeJPC2jeDZPEfjO70X4ibsQRp5pi0dv7K26q7xgmLzTZrKzRoCC%2BV3PiR8WPEHwo%2BPPhPwJ4v/Zn8IHwX438Wx%2BHPDviSx8SiXV5LxtOnvfMk0trBUW3X7LOjOt28ihPMMQTcVANT/hB/wDgoX/0dB8Gf/DD6t/81FH/AAg//BQv/o6D4M/%2BGH1b/wCaivEh/wAFHPCmk%2BBJfij4y/ZP0iy8P%2BI/h/f%2BMvhRdWmvQzS%2BINMtr%2Bxst1%2Br2kaaUznVdNnGJLlVgnkdmDQshX4mf8FDPD3wn8OXel%2BN/gf8JdH8Y6J8XbTwJ4qg134nLZeHNKe60J9agvW1d9KL%2BW0HlxbJLSNhMzL90K7gHtn/AAg//BQv/o6D4M/%2BGH1b/wCaiqHgfxx%2B1Z4O/as8OfBH43fEf4e%2BJtG8TfD3xDrkM3hX4eX2i3VpdabfaJborPcavfJLG6apKSoRGDRIQ2Mg91p1jo%2Br/B%2BDxxL4Y8NWmpXHh1b/AM7wxeLeWkUxg8wNa3fkwtPEDykvlx71w2xc4rlPHH/KQv4X/wDZGfHn/p28IUAezUUUUAFFFFABRRRQAV84/CbxV%2B3f8ddH17x34X%2BN/wAJNA0u3%2BIXirQ9L0q/%2BD%2BqX9xFa6Xr1/pkLS3CeIoFlkeOzV2ZYo13OQFAAr6Orxn9g/8A5Ihrn/ZZviP/AOprrdAB/wAIP/wUL/6Og%2BDP/hh9W/8Amoo/4Qf/AIKF/wDR0HwZ/wDDD6t/81FezUUAeM/8IP8A8FC/%2BjoPgz/4YfVv/moo/wCEH/4KF/8AR0HwZ/8ADD6t/wDNRXs1FAHjP/CD/wDBQv8A6Og%2BDP8A4YfVv/moo/4Qf/goX/0dB8Gf/DD6t/8ANRXs1FAHjP8Awg//AAUL/wCjoPgz/wCGH1b/AOaij/hB/wDgoX/0dB8Gf/DD6t/81FezUUAeM/8ACD/8FC/%2BjoPgz/4YfVv/AJqKP%2BEH/wCChf8A0dB8Gf8Aww%2Brf/NRXs1FAHjP/CD/APBQv/o6D4M/%2BGH1b/5qKP8AhB/%2BChf/AEdB8Gf/AAw%2Brf8AzUV7NRQB4z/wg/8AwUL/AOjoPgz/AOGH1b/5qKP%2BEH/4KF/9HQfBn/ww%2Brf/ADUV7NRQB4z/AMIP/wAFC/8Ao6D4M/8Ahh9W/wDmoo/4Qf8A4KF/9HQfBn/ww%2Brf/NRXs1FAHjP/AAg//BQv/o6D4M/%2BGH1b/wCaij/hB/8AgoX/ANHQfBn/AMMPq3/zUV7NRQB4z/wg/wDwUL/6Og%2BDP/hh9W/%2Baij/AIQf/goX/wBHQfBn/wAMPq3/AM1FezUUAeM/8IP/AMFC/wDo6D4M/wDhh9W/%2Baij/hB/%2BChf/R0HwZ/8MPq3/wA1FezUUAeM/wDCD/8ABQv/AKOg%2BDP/AIYfVv8A5qKP%2BEH/AOChf/R0HwZ/8MPq3/zUV7NRQB4z/wAIP/wUL/6Og%2BDP/hh9W/8Amoo/4Qf/AIKF/wDR0HwZ/wDDD6t/81FezUUAeM/8IP8A8FC/%2BjoPgz/4YfVv/moo/wCEH/4KF/8AR0HwZ/8ADD6t/wDNRXs1BIAyTgDqTQB4z/wg/wDwUL/6Og%2BDP/hh9W/%2Baij/AIQf/goX/wBHQfBn/wAMPq3/AM1Fd94i%2BN/wW8IOyeLPi94X0tk%2B%2BNR8QW0BX673GK4jX/8AgoH%2Bwt4Y3DWf2w/hpG6/eii8a2Usg/4Akpb9K56mLwlL46kV6yivzkj2MJw7xDmFvquCrVL/AMlGrL/0mlJfiQf8IP8A8FC/%2BjoPgz/4YfVv/moo/wCEH/4KF/8AR0HwZ/8ADD6t/wDNRXG%2BI/8AgsZ/wTR8LBjqX7V%2Biy7eo03Tr28z9PIgfNYf/D6T9jDVBnwHZ/ETxUD9w%2BH/AIcajJv%2BnmRpXHLO8mi7PEQv5ST/ACufR0fC7xIrw545PiVHvKjOC%2B%2Bp7Nfienf8IP8A8FC/%2BjoPgz/4YfVv/moo/wCEH/4KF/8AR0HwZ/8ADD6t/wDNRXmP/D2Ow1Ljwj/wT4/ad1cH7k9v8KSkJ/4G84x%2BVH/Dxz9ozVv%2BRS/4JXfGebP3f7YS00/897tip/tzLH8M2/SFR/lTNf8AiF3HMf4uGjT/AMeIwkP/AErF3XzR6d/wg/8AwUL/AOjoPgz/AOGH1b/5qKP%2BEH/4KF/9HQfBn/ww%2Brf/ADUV5j/w2z/wUWvfm0X/AIJEa7Ip%2B6b74u6RbH8QyHFH/DVX/BVrUuLH/glLpmm56NqPxy0uX9Ios0f2zg3tGo/%2B4VT/AORQf8Q04ij8dbCR9cfgl%2BCryf4Hp3/CD/8ABQv/AKOg%2BDP/AIYfVv8A5qKt/srfEb40%2BMNY%2BKHgT46a/wCF9W1TwD8QotDs9V8J%2BGrnSbe6tZdB0fU1Z7e4vbxlkWTUZULCXaVjQ7VOc%2BT/APC8P%2BCwl5zb/sN/DWzz0F38TPMx9diV0H/BOzVvjLrmufHnVP2gvCWj6F4vl%2BM0H9r6VoF%2B11aQY8I%2BGxF5crAFswiNj6MzDtXRhsfTxU3GMJrreUJRX3vr5Hj53wnjMiwqr1sThql3y8tHE0q0lo3dxp3ajprK9rtLqfSdFFFdx8uFFFFABRRRQAUUUUAFFFFABRRRQAUUUUAFFFFABRRRQAUUUUAFFfF//BMP4s/sS%2BGfH37QPwm/Z4%2BLHwzt9MT47xvougeFfEdgUYXHhzQo98UUMh3GW7iu1LAEvNHMMl1fHx94EhvbfS/iJrnwn8Q6XqfiDWPgt48l8baZ4G0p7Xxd4dRvEGnyyweKpoZZJNR1g2huo7OXy7WWExXiwx3AlM0YB%2ByNfKf7SviD%2Bxv%2BCuX7LGnb8f2t8O/idaYz97A8OT4/8g5/Crf/AATjPwaPiz4x/wDDJx8P/wDCnP8AhL9N/wCEL/4Q3yf7D%2B2f2Paf2j/Z/kfufJ8zyvM8n5PtP2nP73za8g/bO8V/FTSP%2BC0v7IF3448IeH9N0OJPH9j4a1DSvE095dahHc2ekxObq3ksoUtGBMe1UmuA25ssm0buPHVPZYbm7OP/AKXFfqfRcK4VY7OVQ706/wB6w9eS/GJ%2BgFFFFdh86FFFFABRRRQAUUUUAFFFFABRRRQAUUUUAZfjD/kEw/8AYVsf/SuKuF1/9ib9jLxXrt74p8U/sj/DHUtT1K7kutR1HUPAOnTT3U8jF5JZJHhLO7MSzMxJJJJOTXdeMP8AkEw/9hWx/wDSuKvnbx//AMFlP%2BCbnwv8d638NPHX7R32HW/Dur3OmaxZf8IhrEv2e6t5Wilj3x2jI%2B10YblYqcZBI5rhx1bLaMIvGSgk3pz8tr%2BXMnrbsVHiSpw3%2B9hjXhufS6qypc1tbXjUp3tvZt23t1PRP%2BGB/wBhX/oyz4S/%2BG50z/4xVvQP2Jv2MvCmu2Xinwt%2ByP8ADHTdT027jutO1HT/AADp0M9rPGweOWORIQyOrAMrKQQQCDkV4z/w/N/4JZf9HRf%2BWTrn/wAhVr%2BAf%2BCyn/BNz4oeO9F%2BGngX9o77drfiLV7bTNHsv%2BEQ1iL7RdXEqxRR75LRUTc7qNzMFGckgc158Mbww5pRnRvdWt7O9%2BltN72sV/xE3E1/3TzycubS31uq730tb6w73va1ne9rO9n7L%2B018E7L9pP9nTx3%2Bz3qGvy6TD438I6hob6rBAJXs/tVu8ImCEgOULhtpIDbcZGc15f4i/Ym%2BIXj/Qfi7L49%2BPtrF4k%2BLfw703wzfa14T8KzabDpslmNRC3MUUl9PIyOL8BojMDiJsSDzBs9c%2BOvxh8Ofs%2B/B7xH8b/GWmajdaN4V0qXUtZTSoUknis4hunmCu6BlijDysM52xttDNhT5f8AGf8A4KIfB34LaX4u1zVPDmp6hY%2BCvFtn4b1jUR4g0HSrR7%2B402LUQkNzq%2BpWcMmyCeAMA%2B/fMFRX2SFPeMzzv4Jf8EpoPhF4jh8TW/xI8I6eF%2BLi%2BOX0HwH8L49B0iBh4RvPDhs7e1S8l8oN9qF20rPIzOrIR84dPQfgb%2BxR4h%2BAUfgS78I/Fyyub/wN8DdK%2BHVvLqHhd2hu/sckDG%2BaNLtWXesLAQhzsLg%2BY23a3KWv/BR3SfFPj6O/8E3FpceAtc8GfCTXfCOqxaFJPeXX/CYeINW00rMj3cKxxiKzsyrAF4GkmdkucLBVnwd/wUZ/4WX%2B0R4O8E%2BEPhD4ls/AXiTwV4s1%2B08V6poQnfxBDpNxp0Mc%2Blx2VzNO0b/apW8qe3SeZWgaJCCcgHo/7bfwA%2BJn7UP7PWrfA34Y/FTQvB0%2BuyRxanrGveEJtaT7IpLtHFDFf2ZSUyLERI0jqFV18slwyX/H37Ps/wAfPhxD8Lv2ltfstc0x7bS7q/8A%2BEQTVPDk7azZ3S3S3tvcW2pNPbRCaK3eOFZGeNoiWmlDALD%2B2B8Qfi/8OP2WvGPxb%2BAmoeHbTxB4c8M3etWreMtDury0aK2t3neN7eG4tpd7Km0fvE2k5IONp37f4w%2BH/DnwBg%2BPHxR1W10rTbXwnHreu3ao3lW0f2YTSlV%2BZiBzhRuY8AZJoA8U8I/8E0fD3gr9mDWf2VtL%2BMOvXeh%2BJvi3deLvElxr9/qGrTXunXHiE6tLowe%2BvZnRJYQtnNMGPnb7ido/OuHatT9qD/gmx8F/2lvHtn8V5vFHi/w74kXxT4d1TV77RPHuu2tvqMGk3azxW7WdrqEFujlRIiXAjMkTSGRct18oP/BQ39qyD4ReKfEvi/4caB4a16x%2BPln4NtbSDwlqWvXOh6Rd6FY6tCZ9KsbkXWrajH9sW3lisnUA75lUxQOW5bx7/wAFbvjD4G%2BBOjfGjxRd/Djw1Fb/AAy1fxZPFrulXrHxzdWGoXNu2iaVGLxH07UGgtllkt5/tc9q94kUkLG3magD6F%2BG37Dmt%2BBPjbpvjLUfjFBqHgjwt4z8S%2BLfBXg9PDRhu9P1jXJLt7yS4v8A7S63MKHUdSEMS28JRbvDPJ5aVHc/sJ6zH8Am%2BHOjfGWKPxg/xXk%2BIVx4tvvDZntL7VjrDaikVzYC5QzWsaeVbJGLhHVLaFlkVo1Nc54W/b9m%2BIf7ZGq/BrSPiD4d8OeF/D3iqy8NNaaz4A1e7udf1G40e21MJHrEc8Wn6ZIVu4447WdJp5zbysoCvGazviL%2B2J%2B1T8Cbn4t%2BGvFsnw78dap4D%2BE48XR3PhjRLvSbbRLuSaVINOvhcX9x9paSJHnQo9vI627jyk86JqAOy0b9g2//AOFU6N8MvGPxcgv1k%2BMw%2BInjv7B4a%2ByWet3K6hJqcdlb25uZDZW6362Ux3SXDOLaRXLNO0i%2BkeJvgP8A8Jd%2B0z4U/aD1vxV5tr4M8L6rp2ieHPsPypfX8tr5uoNNv5dYLYwIuwbVuZzuO/A%2BU7T/AIKg/Fq38BDQ9WuNFPifVvjQfBHh7xDJ8IPEVrILdPDw1uW6uPCTTvrCzgJNbR2xlR5gYroFYGye%2B%2BO/7Sv7T2lfs9%2BAfjV%2Bzf8AHX4TeIpvGOo6FoGmWt58L9Ukj13Vb/UEtnnhK63E9hDDE0s0sEqzywraT7nYjaACS3/4JAfsuWvxNvfEcOpeNm8Jan8PtR8Laj4Hufif4lnt5I7y8S5mkSSTUz5CHa48mNFXc/mAhgK3/hJ%2Bwr4x/ZkX4i6l%2BzV8d5IdU8f%2BP7fxA1z8URrni%2BGxtotJtrA2oW61qOWSZnt2lN35yMUeOFkdIIiur4u%2BM37QXw7/AGvvAvwl1jxB4I13w58QtT1SO38N6R4cvINb0DTLPTprg6tcXbXskNxALpLSzdRbQBZNTgxIxUh/Fvhh/wAFDP2iZ/2U/FPxT%2BKN54aX4jaToWiX958P7v4QeIPDUnhSC9vRbXGo3a6heSS6rYWytJM89qsSFbKYCQFwUAOq1L/gnL8ZtM8I/DD4e/D39pjwsnh34f6lf67qXhvxZ8MJ9Q0/XPEFzfyX8V80Npq1n5MFpPNK1rZkyRRN5Tku9vC6d7/wy78ebn9taT9qXXvj14S1fQrbTotM8NeEtT%2BHN0914dsmjT7aLO9TVliSe6mUPJcPaO/lxxQj5UJfw%2Bz/AOCoHjPX/DMmk6P8afhHaw6V8W7rwdrnx1vdCu28HNGvh%2B21q2nitxqalWnN5HZoWvzGZbeVkeQyRRNv%2BJv20/2pfiB%2Byz8If2nvgBr/AMP9KuPideeHdEg8DeKfAOo39xNq17fCG9eK7j1S0MVvb263Nzte2aQR2UjHlgigHW/Cr/gnx4u%2BGSRafcfGjQNd0zwh8N9Y8D/CXR9Z8ANJbaNpGoXFrNJFqifbsaxtTT7C3Gz7GDDA4I3Ss4v/AAW/Yj%2BIf7Nfw51rS/gF8QPhl4e8U%2BJ/Fi6xr9zF8HpI/D0MKWKWcdnYaTa6pA1mipFE%2B5rqYtI9wzA%2BcAnGaZ/wUR8cQ/tkWXwB8T614Itl134nar4M074fLpl0PEmlxW2l3d9aa/dTm5Mb2N0bPairaxrtvIsTu0ciFfG37WX7aHw60z4zeBbW38E/EDxb8PPC/h/UdP1TwP8ADvVmtrXUNQupkl0q402PULi4vLiG1jhuwsE8cjR3UW6KMPG0gB7j8HfgVpn7M/7KFj8DNI16bVIfD3hu4gbUJrdIfPkYSSSMsSfLDHvdtkS/LGm1ASFBrJ8cf8pC/hf/ANkZ8ef%2BnbwhVn4G/Fub4y/s6av4m1H4naN4p1G1/tGx1a60fwRf%2BGzZ3EStutZ9M1G4nurSdFK7kmYMQyttVWFVvHH/ACkL%2BF//AGRnx5/6dvCFAHs1FFFABXn/AO0v8cbn4A/DWLxZovhFfEGtar4h0vQfDehyaj9jjvdR1C9itIFln8uQwQq0vmSyCORlijcqkjBUb0CvPv2mPgddfH74axeE9F8Xr4f1vSvEOl694b1yTTvtkdlqOn3sV3A0tv5kZnhZovKljEkbNFK4V42KuoB59c/t0XWhfsveKfjd4t%2BFMVn4n8HeMT4R1vwlb%2BIhJaR6w%2BpQWEGNQeCPFlIbq1uDctArRwSl3iDI0dcN8Qv%2BCpJ%2BGXgy9PjXwN4D0PxNoHxVk8CeMbrxH8VDY%2BEdCvV0WPWY5Z9cbTiypLbT20SB7RGN1MYCFKbj6T8P/wBlb4jeCPhH4x8A6p8TPB/iHVPHV1qWq%2BIr7Xvh3JPp93qt7MxkMlidRw9gtsIbZbQy%2BZsh3PcuzE1wHgv/AIJoa18JdE0XxB8GPin4P8OeNdN8f3viq8e2%2BF%2BzwtNNc6Omj%2BRBotvfwtaxxWUNusTLdlwySs7SefICAfQH7PPxak%2BPXwI8H/GyXwdfeHm8WeG7PVjompHM9l58KyeUxwM43cHCkjBKrnA4r9g//kiGuf8AZZviP/6mut1tfBr9lr4d/DH9lrQP2UPFlhZ%2BMvD2k6BHpeoQeIdJhlttSUfM%2B%2B1YNEsRfJWHBVFCqMhRXL/8E6fDHhrwV%2BzdfeD/AAb4esdI0jS/i38Q7TTNL0y0S3trSCPxnrSxxRRIAsaKoChVAAAAAoA90ooooAKKKKACiiigAooooAKKKKACiiigAooooAKKK4/4nftCfAb4KW5ufjB8aPCvhdQu4DXtft7RmH%2BysjgsfQAEmoqVKdKPNOSS7tpL720dOEweMx9dUMLSlUm9owjKUn6RjGTfyR2FFfKniD/gsr%2BxOupyeHPhHq3i34n6xGcf2R8N/Bl5qErHsFdkjibPs5qkP2vf%2BCkvxeOz4Bf8E5P%2BEYspP9Tr3xe8XRWRXPTfYQAzj14Y%2Blea87y1u1KftH2gpT/GKa%2B%2BR9tDww41hBVMdh1hIPXmxVSlhlbuo1pxqP8A7dou/S59cUjMqqWZgABkknpXyQP2cP8Agq98W/n%2BL37enhTwBayf8fGkfCnwKLjI/upd35E0ePUA05P%2BCOP7PXjBvtP7SHxj%2BLXxYmY5lTxv8QrowZ9EjtjFsX0XJxS%2BvZhV/g4VrznKMPwXPIr/AFW4PwH/ACMc9pyf8uFo1sQ//A5/VqXzu15nunjr9rb9lf4YSPB8Rv2kvAehypndBqvi2zgkz6BHkDE%2BwFeUeLf%2BCxX/AATa8HOYbz9qPSb%2Bbdtjg0PTbzUGkbsF%2BzwuDn64rpvAn/BMv/gn78OI0Tw1%2ByH4FcpjZLq2hx6jIuO4e78xs%2B%2Bc16v4S%2BGHw18AoI/Avw80PRVAwF0nSYbYAen7tRRbPZ9aUPlOf5uCF7Twqwu1PHYh%2Bc8LQT%2BUYV5r5ts%2BZh/wV2%2BHfiU7fg1%2ByH8fvHSt/qrzw/8ADOUWp9C0k8ibR77aU/ty/t8%2BK%2BPhd/wSb8VOj/dn8X/ELTdI2D1aNwzH6A5r60oo%2BpZlP48W1/hhCP587D/WfgnDf7rkEJedbFYqp96p/V4/dofJR8b/APBajx1%2B60H4H/AvwJG/3pfE3iW/1OWMf7IswFLfXigfst/8FUvHH77x5/wUw0fwzG/%2Bt03wR8KbORfotxdP5i/lX1rRR/ZEJ/xa1WXrUaX3QUPzD/iIeKw/%2B4ZbgaHnHCwqS/8AAsRPEP8A8lR8lf8ADr74geJvm%2BKn/BTD9oTVN3%2Btg0LxdFpMEnsY4om49s0o/wCCK37EWsHd8TLfx541Y/fbxV8RNSlL/XypY6%2BtKKP7Cyl/FRUv8TlL/wBKlL8g/wCIqeIUP4GYTo/9eY0qFvT2NCk//Jj5z8O/8EkP%2BCb/AIXRU0z9kjwxKE6f2iJ7w/iZ5Hz%2BNdvoH7Cv7FHhYq3h/wDZF%2BGlq69Jo/A9h5n/AH2Yt3616rUV5e2enWz3uoXcUEMYzJLNIFVR6kngV0Qy3LaPwUIL/tyP/wAiePjOOONcfd4rNMTPvzYis/8A3Kl%2BBkeHfhl8N/B%2BD4S%2BH2h6Xt%2B7/Z2kwwY/74UVuV534m/a7/ZP8FyPD4w/ad%2BHulPGcOmo%2BNLGBgfTDyg1xOr/APBUX/gnjojMl5%2B2F4Fcr1%2Bya2lwPwMW7P4U5Y3LsOrOrCP/AG9FfhdfkfHYrO8HKo5YnFRcu8qib/8AJptnvVFfMt9/wWR/4JnacSLj9rDRWx18jTL6X/0CA5rKuP8AguF/wS4tiRJ%2B1LEcf88/CGsv/wCg2ZrF53k0d8TT/wDA4/5nny4i4fjvi6X/AIMh/mfV9FfKNl/wW/8A%2BCXl/L5Mf7UMcbf9PHhHWIh%2BbWgFdNoH/BWb/gnF4kIXTv2uvCceen2%2BeW0/9HomKcM5yeo7RxFN/wDb8f8AMqHEGQ1HaGLpP/uJD/5I%2BiK8Z/Zf/wCS3/tHf9lmsf8A1CvC9Ob/AIKI/sErGJT%2B2d8L8MMgDxzYk/l5uRWH%2Bw38R/AHxc8fftBfEL4XeM9M8Q6FqHxmtfsOsaPeJcW1x5fg7wzE%2ByRCVba6OpweCpHauulisLXly06kZPspRf5NndRxuCxM%2BWjVjJ72jKLdu9lJn0BRRRW50hRRRQAUUUUAFFFFABRRRQAUUUUAFFFFABRRRQAUUUUAFFFFABRRRQAV%2Ben/AAVy1dvDv/BSP9h/XRkBfG2s2rsP4VnvvD0JJ9vnr9C6/OX/AILkf8Sz4%2Bfs%2BeOun/CL/wBqarv/ALmzxD4Qjz/5F/WvKztuOVVZLok/ulB/oz73wuhGtx/gKMv%2BXkpw%2BdShiaa/GcT9GqKKK9U%2BCCiiigAooooAKKKKACiiigAooooAKKKKAMrxh/yCYf8AsKWP/pXFWrUN/YWmp2j2N9AJIpBhlJI75ByOQQcEEcgiqH/CH6T/AM/eqf8Ag8u//jtAGrRWX/wh%2Bk/8/eq/%2BDy7/wDjtH/CH6T/AM/eq/8Ag8u//jtAFnXtC0fxRod74Z8RabDeafqNpJa31ncJujnhkUo8bDurKSCPQ187eB/%2BCYXwo%2BGfwk8B/DH4e/Gn4jaXqHw91vU9U0vxyNT0%2B51q9l1COeK6F1Jc2UkMm6KbyldYUljSGII6bST9Af8ACH6T/wA/eq/%2BDy7/APjtH/CH6T/z96r/AODy7/8AjtAHg3gb/gmJ8A/h/wCGvD3hXRPFvjCS28NeGvh5odg13qVs8j23g3VbvVNLaRvs43SSz3kq3DcB0VBGIWBdrnw3/wCCeHgT4VfEHSvH3hH45fENF8LeHNd0PwJolxe6bJY%2BFrLVZraaZLRDY75TE9pB5JunuNipsO5Plr23/hD9J/5%2B9V/8Hl3/APHaP%2BEP0n/n71X/AMHl3/8AHaAOb/aA%2BCbftAfA7XfgbefFLxJ4Zt/EelPpup694bj0837W0iGOdF%2B2WlxAvmRlkY%2BTkByUKMAwzvDH7NOg2fwk0r4H/FHxvqnxH8NWPh640fVdM8eaNo9zDr0LyxNC17FBYQxO0EcRhjWNI42SRzMk0gSRO1/4Q/Sf%2BfvVf/B5d/8Ax2j/AIQ/Sf8An71X/wAHl3/8doA%2BftD/AOCU/wCyn8O31bU/gBo0/wAL9X1D4jW/jXTta%2BHukaTYy6NqEOjto6xW0TWT27WxtJr0GGeKZQ%2Bo3TrtZwV29R/YA8Gah8HLL9nxfjj8QIPBcx1RvG%2BgxXOmFfGz6ney3uotqUz2LTp9pnuLoyCyktVK3MiABdqr7N/wh%2Bk/8/eq/wDg8u//AI7R/wAIfpP/AD96r/4PLv8A%2BO0AeV%2BIP2Hvhv4h%2BNEnxbl8c%2BKbWwvPFun%2BK9X8DWc9muj6lr1jbQW1pqM2bY3QkjjtbP8Adx3CQM1pEzRM24tyvgT/AIJq%2BD/Cfws8bfB3xP8AtKfE3xdo3j26uNQ1l/ET6Il4mqy3EdwNUW7stLt55LmN4ohF5zyxRxwxRiPZGir79/wh%2Bk/8/eq/%2BDy7/wDjtH/CH6T/AM/eq/8Ag8u//jtAHi0f/BPzwh9kn167%2BPHxAufHsvjWLxTF8UZm0j%2B2be/j0ttJTy4V08aesX9nyTW5i%2ByFSJncgynzB0Hg79iz4T%2BC7X4YWFhq%2BvXMHwp1LUtV0OG%2BvY5Bf6rfQXMNxqV5%2B6BkuCL2%2BYFDGga8lOzGwJ6T/wAIfpP/AD96r/4PLv8A%2BO0f8IfpP/P3qv8A4PLv/wCO0AeWeDf2N18E/tQeJ/2pLD9pD4g3V94ukhXV/Deow6JNp62kEDRW9jDIdM%2B2wWsTO86xR3KgzSSSPvMkm48Kfsd3fh3Xtc8f6v8AtRfEjX/Geq%2BG00HTfGurpoa3uhWSzGcpaQ2%2BmRWZZpdru89vMz%2BWgJKqFr1P/hD9J/5%2B9V/8Hl3/APHaP%2BEP0n/n71X/AMHl3/8AHaAPMNK/ZBn8MfDu%2B8IeBf2mfiLoWu674ok1/wAW%2BP7EaLLrHiC7e2W1P2n7RpstpGggito1FvbwmNLOBUKhWDaWifshfCHw1cfCmLw%2BmpWum/BqzuIvBmiC8ElsJpbE2Au5zIrSzXCW0lzGshkBP2ydn3swK97/AMIfpP8Az96r/wCDy7/%2BO0f8IfpP/P3qv/g8u/8A47QBwmrfsxW/ib412Xxn8Z/GjxjrI0K6uL3wd4Wvf7NXS/Dl9NZyWb3lsIbJJ5pvInuUX7VNcKguZdqjIxyfwD/YX1L9nT4Vaz8KvBH7YvxVu01e4a8Gv6vbeGpdStr%2BS4Nxc33nLoyi6uJ2JEj3azgqcKFwCPZ/%2BEP0n/n71X/weXf/AMdo/wCEP0n/AJ%2B9V/8AB5d//HaAOE%2BHnwD0D4A/C3xjY6f4u1zxHqvia8vdc8T%2BJvEktu17qt/JaxwebILaGGCMLBb28KpFFGipCgC5yTkeOP8AlIX8L/8AsjPjz/07eEK9RPgzQ3ws7X0yZBMVxq1zIjezK0hVh7EEV5d44/5SF/C//sjPjz/07eEKAPZqKKKACiiuO%2BPHxs8Nfs/fDqX4ieJtI1PVN2pWOmaZouiQxyXuqahe3UVpaWkCyyRx%2BZJPNGu6R0jQEu7oiswAOxorx2H9tj4Zj9njVf2hdW8J%2BJtPXRNfbw/qvg%2B6s7dtYg1v%2B0E06PTNkU7wNPLdSwxxusxgcTxyCXy231n/APDeHgk%2BF/MT4P8AjZ/Gn/CcN4QPwsSPTG1xdYGnjVDblxffYFX%2BzmS9843Yi8l1%2BfewjIB7lXjP7B//ACRDXP8Ass3xH/8AU11uvVfCWt3/AIl8L6f4g1XwpqOg3N7ZxzXGi6u0DXVi7KCYZTbyywl1PykxyOhI%2BVmGCfKv2D/%2BSIa5/wBlm%2BI//qa63QB7NRRRQAUUUUAFFFFABRRRQAUU2aaK3iaeeVURFLO7tgKBySSegr5v%2BMX/AAVY/ZF%2BGXiQ/DrwT4l1L4m%2BMmJWDwf8LtMbWbx3HBUtF%2B5Qg4BDSBh/d4rmxOMwmDhzV5qK83v6LdvySbPayThzP%2BJMQ6GVYWdaSV3yRbUV3nLSEI95TnCK7n0lUOoajp%2BkWM2qarfQ2ttbxmSe4uJQkcaAZLMxwAB6mvzY/aF/4Kq/tXDVB4VuL3wF8B/tUoit9K1CRvF/jKQnhSmmWStFbOef3d0E6YDHv57Y/Drxv%2B0NeRa34/8A2S/2pf2ib3eJIE%2BK%2BtReC/DjSA5EkFqshVEzzgsQcYI614FXiehKo6eGpucl3uvwUZz/APJYnp18p4NyGq6ef53RjVjvQwkZY6un2l7D/Z4S8p4iVuqPtT4m/wDBWj9kvwn4mf4d/CS/174ueLBkL4a%2BFGjPrEvXGWmQiAKD1xISuDkVz4%2BMn/BXD4%2BHb8Kv2X/A3wd0ib7mr/E3xC2p6g0f99LSyAET/wCxLke9c/8AC/4U/wDBVHTvDaeEPg38Jf2ef2ffDnB%2BwaXZT6pqEZ/vEQqttI3qzck9zXSD/gnz%2B2D4/PmfHn/gqx8S7kPy8Hw70ay8NBP9lXhEhOPUjJrP2ucYzWSqW7QUaS/8CqOVR%2BvLH0Rk%2BPeF8t93IOHJ12tquOkpN%2BaoRnSoR9HGrbrfq0f8E1/jn8Wz9q/a%2B/4KK/EzxQsnMug%2BBzD4Z0xgf%2BWbx2wZplHTJKk9TTtJ/Yl/4I8/stXRvfF3hH4X2N8j75734jeJIb2ZpOpdv7SmcK2eeAMHpil/4c0fsx67x8V/it8YfHob/XL4v%2BJ15MJfXd5PlZz%2BFdh4G/4JO/8ABOT4eKq6D%2ByJ4RuNnT%2B3LaTVCfr9seXP41dPLK/NzrCU%2Bb%2BapUlUl/6S/wAGjlxfil4t46g8PSrxw1F/8u6VT2FP09nhKNBP5zk/Mpaj/wAFP/8AgmH8HNKGjWH7TvgWzsrYfu7PwuDdxoP9lLKNx%2BQrnB/wWY/Zj8RHPwa%2BFPxh%2BIqH/VyeCfhjeTrJ6Y8/yq%2Bh/B/7PfwD%2BHrI3gH4H%2BENDMePLOj%2BGrW22/Ty4xiuvr01QzmSs6sIL%2B7Tb/8ASpJfgfETp8S4mbnVxNOLe7VOU3f1qVNfmmfJX/DzD406r/pfhX/glr8fJrQcu%2Br6Hb2EwHtE8pJPtmj/AIek%2BN7f/RNR/wCCYn7S63bcIlt4AjmhJ95ROAB74r61op/Usz/6C3/4Lp/1%2BLJ/s/OP%2Bg5/%2BCqX%2Bf6s%2BSj/AMFB/wBr/X%2BPh/8A8Envibclv9X/AMJH4gsNJB%2BpkLbaQftEf8Fd/E/zaF/wTr8FeGA33f8AhJfi3b3hX6/ZEFfW1FH9n4yXx4ufyVOP5Qb/ABD%2BysfP%2BJjqn/bqpR/KEn%2BJ8kl/%2BC33iv8AdCH9m/wnbv8AelLa1fXUf0HEZ/GlH7L3/BWTxF/pmt/8FR9C8PSHrZeH/gnp13CPo9zIHr61oo/silL%2BJWqy9akl/wCkqIf2FRl/Fr1petWS/wDSFA%2BSj%2BxN/wAFGtR/c%2BIv%2BCvWuSwn7y6b8INIs3/B1ckUD/gm/wDtEyf6Xd/8FUvjU153eGa0jh/79BCP1r61oo/sXAPfmfrUqP8A9vD/AFeyx/Fzv1q1X/7kR8l/8O/v2xov3Nr/AMFYviSIeyy%2BGtPd/wDvsjNJ/wAO5f2ldU/deKP%2BCqvxklhPVdJSzsX/AO%2B0QkV9a0Uf2Ll/VS/8GVP/AJMP9Xsr6qb/AO4tX/5YfJX/AA6O8Jat83jz9uT9pPxHu%2B/FqnxWfyj7BY4VwPbNSWf/AARP/wCCfk9yl945%2BHviLxbPGcpL4n8dancYPrhZ0U/iCK%2BsaKP7DyjrQi/W8v8A0qUg/wBW8h%2B1h4y/xXl/6XKR4b4Y/wCCZv8AwT78IxpFpP7HXw%2BkCfdOpeGoL1vxNwrk/jXb6R%2By3%2BzJ4fRY9B/Z08CWKr91bPwhZRAfTbEK7uiuungcDS%2BClFekYr/207qWW5bRVqdCEfSEF/7aYth8Nvh3pQC6Z4B0W2A6CDSoUx%2BS1qW9hYWgC2tlDEB0EcYX%2BVTUV0KEI7Kx1xhCPwpL5L/IgvdN07U4/J1GwguE/uzxBx%2BRFczr/wAAvgT4qBXxR8FfCWpBuov/AA5azZ/77jNdbRSnTp1F70U/VJ/mmTOlSqq04p%2BqT/NM8uX9h/8AYsSQzJ%2ByD8Lg7HLMPAGnZJ9c%2BTXL/sXeC/B3w8%2BJn7Qvg/wB4T0zQ9Is/jNafZNK0ewjtraDf4N8Mu2yKMBVy7MxwOSxPUmvea8Z/Zf/AOS3/tHf9lmsf/UK8L1FPD4ei704Ri/JJfkkRSwuFoS5qVOMX5Rivyij2aiiitjcKKKKACiiigAooooAKKKKACiiigAooooAKKKKACiiigAooooA8n/ZS/aD%2BIHx3Xx/o/xS%2BE%2Bm%2BD9d8AePW8N3un6T4pbV4LgHTNP1GOcTta2xVjHqCI0ewhWjbDuCDXl3xQ/b4%2BPfwR8VfFXQ/iV%2BzP4Qmtfhj8DdW%2BJFxd%2BGPijdXjyxwNOLCxuI59GtxbPeCzvyJFeYR/Y3%2BV8g12P7OH7OH7TXwX%2BIHxC8YeNv2g/AniC1%2BIXjqHxJe2OlfC2906S0ZdPstPkgSWTWrgENBYW5VinyyGRiGVlROk8K/s8eJfBXij4t/EzRfiFYXHiz4lanBNpuo6r4dae10W0tdPhtLOxa3W5RrqGORbm4YCWIu97NgxgjABb/AGVfjnqX7RHwt/4WRf3Xw6uI5dQkgtLj4Y/EZvFGnSRqiZ3XhsrTbMHLq0QjYKFU7yWKr8b/APBerS7jUPDVreWXFzpvwa8TX1u%2BPuNF4r8CsT/3yGr68/Zt/Z68WfB/xH46%2BJHxK%2BIml%2BI/FXxC1y21DW7jw94ZbR9Oi%2BzWUNnCsNq91dSB/LhBeWSeRnJA%2BVERF%2BVP%2BCqHwD%2BFGl%2BK/FvivwT8LvD2k674j/Zj%2BI1/4l1nStEgt7vVntNT8JTo9zNGgecph8FyxG446mvNziHtcoxEO8J/%2Bkv/ACPtPDfFLBeIeT13tHFYd/L21NP/ANKPvfRdUg1vR7TWrU5iu7aOeP8A3XUMP0NWa4P9lrxB/wAJZ%2BzH8OfFO/d/afgPSLvdnr5llE%2Bf1rvK7qM/a0Yz7pP70n%2Bp8vmOFeBzGvhnvTnOH/gE5x/9tCiiitDjCiiigAooooAKKKKACiiigAooooAKKKKACiiigAooooAKKKKACiiigAooooAKKKKACiiigAooooAKKKKACiiigArxnxx/ykL%2BF/8A2Rnx5/6dvCFezV4z44/5SF/C/wD7Iz48/wDTt4QoA9mooooAK8v/AGt/g34z%2BM/wwsLH4a3mmReJvDXjDRfEugR63PJFZXVxp9/Dcm1nkijkeJJo0kh81Y5DEZBIEk2bG9QooA%2BbfB37MPxXX4E/EXwP8XPhn4C8T6n8Rtc1DxNquijxnf2%2BnpqM9wnkWKXSaf58UcFvb2hXUEjE32hGkW3iwuPI0/4JRa7H4Ts/GeufD3wN4r8SyfGS78c658OvGXjXVNT0G/in8PJoIsp9VvbS4u710jt7W8Nxc2r7543Xy41Mbx/d1FAHlH7P37O2s%2BAv2SPDv7OPxW8Z3%2Bo3djoQstS1Hw/4gv7GSIby6wWt5FLHdpHCpWGOQOshjiUnBJFYX/BOnw9YeEv2br7wtpVxfS22nfFv4h21vLqeqT3ty6J4z1pQZbi4d5p3IHMkjs7HJZiSTXuleM/sH/8AJENc/wCyzfEf/wBTXW6APZqKKKACiiigAoor5I/aW/4Ko%2BGvDnjyT9mr9ijwDN8Zvi1Nvj/sjQZN2l6MwIQy312CEVUZgGVWAUgrJJCcE8mMx2FwFPnrStfRLdt9opXbfkl925z4jFYbCxTqySvourb7JJOTfkk36bn1F418c%2BC/ht4XvPG/xD8W6boWjafH5l9qur30dtb265Ay8khCryQOTySBXw/8WP8AgtBq3xQ8RXPwl/4Jj/s6678YPEcbeXN4kk0yeHRLFj0dydjuuRjMjQJ0IdhWp4J/4JZ/FL9pfxVZ/Gb/AIKqfG6fx7qFvN9o0r4Y%2BHZ5LTw3o5OcKVTa1wwBUFhtJ24d515r7M8FeBfBPw28N23g34d%2BD9L0HSLNdtppejWEdrbwj0WONQq/gK8yX9s5kvdf1em/JSqtemsIfPml6E4fF4%2BU%2BelTjBdHUjzy9fZ8ygvJVJT84dD8x/E//BNj/gsL%2B3bObn9tH9qPRvCOgXP3vCen3L3MVvzkZs7Ix20xXs0k8jdck17R8Jv%2BCInhzwJ4cbwr4i/bL%2BJ39mzKBf6P4DktPDFhfcYPnw2kbGXIzyzk%2B9fctFRR4XymnUdWopVJveU5ybf4pW8tvI9DMsbm%2Bd4NYPMsZWrUFqqTqOFFPuqFH2FH5unN95M8t/Z1/Yq/Za/ZQ08WfwF%2BC2jaFcMmyfVlgM9/cDv5l1KWmcHrgtgZOAK9Soor3KNCjh6ap0oqMV0SSX3I48Ph8PhKSpUIKEVsopJfckgooorU2CiiigAooooAKKKKACiiigAooooAKKKKACiiigAooooAKKKKACiiigAooooAK8Z/Zf8A%2BS3/ALR3/ZZrH/1CvC9ezV4z%2By//AMlv/aO/7LNY/wDqFeF6APZqKKKACiiigAooooAKKKKACiiigAooooAKKKKACiiigAooooAKKKKACiiigAr5Y/bt0D/hLPjBH4W8vd/aX7LHxVtdvr5lx4WTH619T14Z8XNHh8Rft0/D7w/cY8u%2B%2BBnxBt3z6PqfhFT/ADrKvT9rQnDumvvTX6ndleLeAzPD4pf8u6kJ/wDgE4S/9tD/AIJmeIP%2BEl/4J9fB3Ud%2B7y/h/ptpn/rhCsGP/IeK9zr5Y/4IqaxNrH/BMz4Zi6yJ7KHU7KZD1Qw6pdxgH/gKrX1PXHlFT2uU4efeEP8A0lf5H0niLhFgfEHOMOvs4rEL/wArVH/7cFFFFeifGhRRRQAUUUUAFFFFABRRRQAUUUUAFFFFABRRRQAUUUUAFFFFABRRRQAUUUUAFFFFABRRRQAUUUUAFFFFABRRRQAV4z44/wCUhfwv/wCyM%2BPP/Tt4Qr2avGfHH/KQv4X/APZGfHn/AKdvCFAHs1FFFABXHfHj42eGv2fvh1L8RPE2kanqm7UrHTNM0XRIY5L3VNQvbqK0tLSBZZI4/MknmjXdI6RoCXd0RWYdjXl/7W/wb8Z/Gf4YWFj8NbzTIvE3hrxhoviXQI9bnkisrq40%2B/huTazyRRyPEk0aSQ%2BaschiMgkCSbNjAGbD%2B2x8Mx%2Bzxqv7QureE/E2nromvt4f1XwfdWdu2sQa3/aCadHpmyKd4GnlupYY43WYwOJ45BL5bb6par%2B3l8LfC/wG8a/HDxx4K8U6HdfD/Vzo3iXwLeW9nNrcWrNDbT22nxrbXMttLNcRXtlJEUuDGVuo2d0Acpzng79mH4rr8CfiL4H%2BLnwz8BeJ9T%2BI2uah4m1XRR4zv7fT01Ge4TyLFLpNP8%2BKOC3t7QrqCRib7QjSLbxYXHmuhf8ABJzxNf8Aww8RXd98btf8DeNNf8Z6v4qjs/CfiSPX7G3vrrQbbQ4o7i%2B8Q6fdXN%2By2lqS120cU%2B69uQm1SigA%2BwPhl4%2B0f4rfDbw98UfDttcw6f4k0O01WxhvUVZo4biFJkWQKzKHCuAQGIznBPWvNf2D/wDkiGuf9lm%2BI/8A6mut1rfA39n3U/BH7IvhH9mv4oeO9Y1i80fwbY6PrGuaXrUmm3UskMKIxgudOW0kiVSu1HjETlFXdlixPN/8E6fD1h4S/ZuvvC2lXF9Lbad8W/iHbW8up6pPe3LonjPWlBluLh3mncgcySOzsclmJJNAHulFFFABVTXte0Twtod54m8S6vbafp2nWslzf397OsUNtCilnkd2ICKqgksTgAEmrdfnt%2B078RPGn/BV39pG6/YF/Z78RXNh8IvBt7HN8a/HenNxqEqPldKtn5VvnQjJyGdGfBSECXz8xx6wNFcseapJ2hHrKX6JbyeySb7X5sTXnS5adJc1SekVstNW29bQivenK2i0V5ShGUHj34%2B/tB/8FgvG2o/AH9jfVtR8E/ArTrprTx58Wnt3iudfA%2B/Y2CthgrKfmHBKsDJsVhFL9j/swfsk/AP9jv4dxfDT4B%2BAbbR7Pahv73G%2B81KVQf31zMfmlflsZ%2BVQdqBVwo634bfDbwJ8H/AmlfDL4ZeF7TRdB0WzW20zTbKPbHDGv6sSclmJLMxLEkkmtyscDljo1PrOJl7Su95W0iv5YL7MfxlvJvZVQwtLDtyvzTfxTas35Ja8kF0gn5zlOd2iiiivWNwooooAKKKKACiiigAooooAKKKKACiiigAooooAKKKKACiiigAooooAKKKKACiiigAooooAKKKKACvGf2X/APkt/wC0d/2Wax/9QrwvXs1eM/sv/wDJb/2jv%2ByzWP8A6hXhegD2aiiigAooooAKKKKACiiigAooooAKKKKACiiigAooooAKKKKACiiigD4v/wCCYfxZ/Yl8M%2BPv2gfhN%2Bzx8WPhnb6Ynx3jfRdA8K%2BI7AowuPDmhR74ooZDuMt3FdqWAJeaOYZLq%2BPOvjB%2Bz78Pl8Wfta/Hn9lX4I6H4WvPA/wnn8A2F78PfDUFhqGo6lc266xr08b2kayTz%2BRLpUMTDLrcW06qd5IH6K0UAfLH/BOU/BA%2BP/jB/wAMgHw9/wAKZ/trRv8AhFP%2BEL8r%2BxP7T/syP%2B0fsPkfuduPsfm%2BV8v2jz9373za6C/1L4r3f/BTbwXZ%2BNvBfh7T9Ct/g944HhrUdK8Tz3l3fodW8JeY1zbSWUKWhGEwEmuA245K7Ru%2Bh68Z8cf8pC/hf/2Rnx5/6dvCFAHmP/BGn/iWfst%2BJPAvT/hF/i34m0rZ/c2Xpkx/5Fr60r5L/wCCWg/sTxT%2B0t4FY4%2BwftJ%2BILyJP7kV0lvIgHt8pr60rycj0ymlHsmv/AZTj%2Bh%2BgeKnveIOYVf%2BfkoVP/BtDD1fzqMKKKK9Y/PwooooAKKKKACiiigAooooAKKKKACiiigAooooAKKKKACiiigAooooAKKKKACiiigAooooAKKKKACiiigAooooAK8Z8cf8pC/hf/2Rnx5/6dvCFezV4z44/wCUhfwv/wCyM%2BPP/Tt4QoA9mooooAKKK534r/FfwD8EfAV78TPibrjafo9g8Ec00VnNcyySzTJBBBFBAjyzzSzSxxRxRo0kkkiIiszAEA6KivO7L9q34CX3wLuv2kU8dND4QsZJ4b69vNIu7e5trmG5NpJaSWUsS3SXQuVMH2VohMZcRhC5CnKl/bb/AGf08AxfEa1u/GF7ZSavNpc2naZ8MNfu9VsruJBJJFdabDYte2hWMo5M8KDZJG2cSIWAPWa8Z/YP/wCSIa5/2Wb4j/8Aqa63XqPgXxx4R%2BJvgrSPiP8AD/xDa6voWv6ZBqOjarYyh4by1mjWSKZGHVWRlYH0NeXfsH/8kQ1z/ss3xH/9TXW6APZqKKKAPMv21fE2o%2BDP2OPix4u0bUpLO90z4a67dWV1DIUeKZNPnaNlYchgwBBHOcV51/wSN%2BDvhr4N/wDBPX4ZWWg6DbWVx4g8N2%2Bv6tNDGA95cXqCfzZG6u3ltGgJ6KiqOFApn/BYTxPN4R/4JqfFrVYJCrS6BFZEg9rm7gtyPxEpH416f%2Bx7oM3hX9kj4W%2BF7hCsmm/DnRLWRT2MdhChH6V4to1OItVrCj/6VU/yicEVN5tJp6Kml53dRv7rR28j0aiiivaO8KKKKACiiigAooooAKKKKACiiigAooooAKKKKACiiigAooooAKKKKACiiigAooooAKKKKACiiigAooooAK8Z/Zf/AOS3/tHf9lmsf/UK8L17NXjP7L//ACW/9o7/ALLNY/8AqFeF6APZqKKKACiiigAooooAKKKKACiiigAooooAKKKKACiiigAooooAKKKKACivJ/2Uv2g/iB8d18f6P8UvhPpvg/XfAHj1vDd7p%2Bk%2BKW1eC4B0zT9RjnE7WtsVYx6giNHsIVo2w7gg15Hpn/BUOx8S/C/4x/HDwX4T8Cav4c%2BF3gfxB4hstJsviokniTUF01ZTEbzTEsmGmW92IJHhmaaV/LaJmhDOyIAfWleM%2BOP%2BUhfwv/7Iz48/9O3hCt39lX456l%2B0R8Lf%2BFkX918OriOXUJILS4%2BGPxGbxRp0kaomd14bK02zBy6tEI2ChVO8liq8z8QdX0yz/wCCjXwm0q7vY47i8%2BDPj/7JE7YMpTVfB7MF9SBzjrgE9AaTaW4m0tzzr9hb/iRft7ftb%2BBfu%2BR4u8OaqE/6/dLaTP47K%2BtK%2BS/gJ/xTv/BX34/aP93/AISL4f8AhXVcf3vs8clrn9cV9aV5WTaYSUP5alVf%2BVJP8mfoPiV7/EFCv/z9wmBn83hKUX%2BNNhRRRXrH5%2BFFFFABRRRQAUUUUAFFFFABRRRQAUUUUAFFFFABRRRQAUUUUAFFFFABRRRQAUUUUAFFFFABRRRQAUUUUAFFFFABXjPjj/lIX8L/APsjPjz/ANO3hCvZq8Z8cf8AKQv4X/8AZGfHn/p28IUAezUUUUAFeQftsfDfx98Q/hPpF98MvDLa7rHhPx/4d8Tw%2BHUu4YH1aLT9Tt7ie2jkndIlmMKSGLzHSMyrGHdFJdfX6KAPk/wr8CfHfif9nb4oeHvjH%2Bz94ztrvx343vPHGn6B4c1/Rl1LS7hL%2BCTTreGdr37MupRGwtb0lnNoJX2edKA2eF8PfDf9vj4E/BLx9rHwz%2BGXxA8QeMvjd8XhqmsajqWv%2BGJvEHg7Rl0TTtMa%2BkQ3Vppc9%2By6WDDBbMbeE3MO8Srbukv3VRQB538LfhVZeG/2YPDfwZ%2BGtr4l%2BGVrpfhOy0vRrcS6fd6roMUMKRxxs8n220mmRUCs589GOTls7q4//gnTpN/oP7N19omq%2BJ77W7mz%2BLfxDhuNY1OOBLm%2BdfGetAzSrbxRQh3I3ERxomSdqqMAe6V4z%2Bwf/wAkQ1z/ALLN8R//AFNdboA9mooooA%2BN/wDgvR4kGkf8E2PFXhtFBl8Sa5o2m2477xfw3PH4W5r7C03T7TSNOt9K0%2BERwWsKRQRr0VFAAH4ACvjT/gtloq%2BNvhb8FfhcsqhvFP7RXhvTWjJ%2B8kiXak/QMU/MV9o14%2BFvLPMTLoo0o/hOX6nnYf2cszxElulTi/unJf8ApQUUUV7B6IUUUUAFFFFABRRRQAUUUUAFFFFABRRRQAUUUUAFFFFABRRRQAUUUUAFFFFABRRRQAUUUUAFFFFABRRRQAV4z%2By//wAlv/aO/wCyzWP/AKhXhevZq8Z/Zf8A%2BS3/ALR3/ZZrH/1CvC9AHs1FFFABRRRQAUUUUAFFFFABRRRQAUUUUAFFFFABRRRQAUUUUAFFFFAHg/7OH7OH7TXwX%2BIHxC8YeNv2g/AniC1%2BIXjqHxJe2OlfC2906S0ZdPstPkgSWTWrgENBYW5VinyyGRiGVlROW%2BFH/BPLxT8GPFlprHgf4x%2BHYdM8HaJ4osPhdpTfD5gdM/ty%2BivZ/wC05Vv1OqRxyQoqRxizLLlpGkkCyr9Q0UAeVfs2/s9eLPg/4j8dfEj4lfETS/Efir4ha5bahrdx4e8Mto%2BnRfZrKGzhWG1e6upA/lwgvLJPIzkgfKiIi/IP/BUT9n278A/tg/Df9rf9k34caHpXxG8E%2BBvGPjXW5NH0aG3ufFsFrf8AhmC5tbuWJBJcE2t3c7S25uWVcF6/ROvGPHSq/wDwUJ%2BGCOoIPwY8eAgjr/xNvCFc%2BLw6xeGnRbaut1unumvNNJ/LzOTHYWOOwc6Dk48y0a3T0aa800n8rbNnzz8ePiZL4N8UeA/%2BC0P7OaXHiLwRq3g230f4qeH4Ig9wugPMZRexAcrPaTErKmekeDtUSNX214M8ZeFviJ4S0zx54I1231PR9YsYrzTNRtH3R3MEihkdT6EEGviLwP4u8N/8Esvjb4t/Z2%2BO%2Bh3Fr%2Bz78RtabUfh74nnsvO0nw/dXYYXmjXh5EEDPzHuGzaWLE7pGQ8E%2BNvEv/BJPxBf%2BHfEOgap4m/Zf8Q6iNS8HeMtDc37eBftJ3yWtwibnexLtvjlXON38buRXzeDx7wVWU62kW/3q1/d1Nue2/s6lk76pOzvbmt%2Bj8OYr/iJ/DVLK3yrOsBFU4wuovE0U5WpxUnHmq0m3PD63rUJypRcqtGMZfeFFZXgfx14M%2BJnhOw8efD3xTYa1oup24m0/VNMulmguIz/ABK6kg9x7EEHkVq19XGUZxUou6Z8PVpVaFWVKrFxlFtNNNNNOzTTSaaaaaaTT0aCiiimZhRRRQAUUUUAFFFFABRRRQAUUUUAFFFFABRRRQAUUUUAFFFFABRRRQAUUUUAFFFFABRRRQAUUUUAFFFFABXjPjj/AJSF/C//ALIz48/9O3hCvZq8Z8cf8pC/hf8A9kZ8ef8Ap28IUAezUUUUAFZvjDxl4Q%2BHnhe/8ceP/Fem6Houl2zXGp6xrF9HbWtnCoy0ksshCRoB1ZiAK0q8Q/b%2B8N%2BItd%2BCejatonhTUtftPDfxL8K6/wCIND0fTpLy6vNNsdatLm4MVtErSXLwrH9pEKKzyfZ9qK7lVIB6Zpnxh%2BEetfDIfGvR/il4cu/Bp0978eLbbXLeTTDaICXuPtSuYvKUK2X3bRtOTxWNeftT/sxad8JYfj5qH7R3gODwJcT%2BTB41m8X2S6TJJ5hj2LeGXyS29WTAbO4EdRivmrw18PbT4k/sn/Fvw/4v0Lx14R07xN8S7/x54Ttv%2BFZapdXdnaxazBd2sr6YLfzJmuL2ze8k07AuXhuyHjjaQ44D4XeFfjn4I%2BItl%2B2F8c/Cfi3xP4V1H9oDWPEAtNE%2BE2qW19Z20/gu00W31NfDqi51C1ja6tLyIRuJJwmoLPKFEsrIAfoVp2o6fq%2BnwatpN9DdWt1Cs1tc28oeOWNgCrqwyGUgggjgg14/%2Bwf/AMkQ1z/ss3xH/wDU11uqX7GXw2%2BMfw7/AGBfAfw2j%2BxeFPF1j4QgjsrPxFpL38Ohbvnhs57eG4gMn2eFkgKJMgBiwrEAZT/gnTb%2BJbT9m6%2BtfGWrWN/q8fxb%2BIa6nfaZpz2ltcTjxnrXmSRQPNM0KFskI0shUEAu2MkA90ooooA%2BJP8AgqW15r37YP7H3w%2Bt9zLc/FyTV3Qd/sBtJM/gsjV9t18XftYaxF4j/wCCyH7LPgKWFZF0PQPFmryAjp5%2BnyRofwe1Uj3r7RrxsstLH42f9%2BK/8Bpx/wDkjgwblKviG1b30k%2B6VOC/NsKKKK9k7wooooAKKKKACiiigAooooAKKKKACiiigAooooAKKKKACiiigAooooAKKKKACiiigAooooAKKKKACiiigArxn9l//kt/7R3/AGWax/8AUK8L17NXjP7L/wDyW/8AaO/7LNY/%2BoV4XoA9mooooAKKKKACiiigAooooAKKKKACiiigAooooAKKKKACiiigAooooAKK%2BL/%2BCYfxZ/Yl8M%2BPv2gfhN%2Bzx8WPhnb6Ynx3jfRdA8K%2BI7AowuPDmhR74ooZDuMt3FdqWAJeaOYZLq%2BPmPwf4w%2BImn/Db4uaDY%2BF/AmtfGTxF8NPiDP8RNZ8CaJMPHfheW11NFNrqN6JpJZVuoXZrGFY7byhaQLbLcRoJUAP1srxnxx/ykL%2BF/8A2Rnx5/6dvCFeff8ABOU/BA%2BP/jB/wyAfD3/Cmf7a0b/hFP8AhC/K/sT%2B0/7Mj/tH7D5H7nbj7H5vlfL9o8/d%2B982ugv9S%2BK93/wU28F2fjbwX4e0/Qrf4PeOB4a1HSvE895d36HVvCXmNc20llCloRhMBJrgNuOSu0bgD3Pxp4J8IfEfwrf%2BBvH3hix1nRtTt2g1DS9StVmguIz1V0YEEf1Ga%2BQbv9jD9rr9i0agv7A/jHSPGnw3u2ke5%2BBnxJuHeK2R8%2BZDpt85JjVskCKb92MksXJr7SorixeX4fGNTleM1tKLtJeV9bp9YtOL7dTz8ZluHxk41buFSPwzg%2BWcfRrdXs%2BVpxur2T1PzL/4J3fHbwv8Mf8AgprrP7N/hn4J%2BKPhHpfjrwbJfah8KvEDn7NpfiS3dpXmsOfLa2mtFkYPGEDGPAUIiV%2Bmlflp/wAFo9Wk/Zf/AOCjf7P37aNuzw28MS2upmFCfOgsr1WuEOOha1v5Vyey%2B1fqTDNDcQpcW8qvHIoZHRshgeQQR1FeNw7OdGrisBN3dKemiXuzSktFotb6Ky3sley%2B2zjMs14jyfB5xmNT2tdOphatS1pVJ4b2bp1Km96k8NXpOct5OmpPW46iiivpj5kKKKKACiiigAooooAKKKKACiiigAooooAKKKKACiiigAooooAKKKKACiiigAooooAKKKKACiiigAooooAK8Z8cf8pC/hf/ANkZ8ef%2BnbwhXs1eM%2BOP%2BUhfwv8A%2ByM%2BPP8A07eEKAPZqKKKACiis3xh4y8IfDzwvf8Ajjx/4r03Q9F0u2a41PWNYvo7a1s4VGWkllkISNAOrMQBQBpUVzmm/GH4R6z8Mh8a9H%2BKfhy78GHT3vx4tttct5NM%2ByICXuPtSuYvKUK2X3bRtOTxXPXX7Xn7J1j8LoPjhe/tP/DuHwVdXxsrbxfL41sF0ua5G4GBbsy%2BU0g2P8gbd8rccGgD0SvGf2D/APkiGuf9lm%2BI/wD6mut169pWq6Xrul22t6JqVveWV5bpPZ3lpMskU8TqGSRHUkMrKQQQcEEEV5D%2Bwf8A8kQ1z/ss3xH/APU11ugD2aiiigD4v8S6TbeMv%2BC93h6RJ1b/AIRH9nGa%2BZc/cll1Wa3I%2Buy5U/Q19oV8SfASG88Sf8F1fjr4gcFovDXws0XSFbsn2lLK6A/Eq5r7brxsltKGIqW%2BKtU/Bxj/AO2nBlyl7KpJu/NUqNf%2BBKNvlyBRRRXsneFFFFABRRRQAUUUUAFFFFABRRRQAUUUUAFFFFABRRRQAUUUUAFFFFABRRRQAUUUUAFFFFABRRRQAUUUUAFeM/sv/wDJb/2jv%2ByzWP8A6hXhevZq8Z/Zf/5Lf%2B0d/wBlmsf/AFCvC9AHs1FFFABRRRQAUUUUAFFFFABRRRQAUUUUAFFFFABRRRQAUUUUAFFFFABRRRQAV4z44/5SF/C//sjPjz/07eEK9mrxnxx/ykL%2BF/8A2Rnx5/6dvCFAHs1FFFAHwj/wX%2B%2BE0Pjz9lvwl4x81IDoPxBtLW/vnXIt7DUIpbKZvbDyQHPTK17l/wAEwPjLdfHP9hH4c%2BL9Xkc6rY6Gui62k3Eq3lgzWkhkB6MxhDkf7YqX/gp38Lf%2BFx/8E/8A4seB47bzpv8AhD7jULWIDJeeyxeRqPcvAoHua%2BeP%2BCK3xbhg8T/EP4J6pd%2BUfE8Gl/E7wxBIcefb6vZwm/WIf3Le8XyTjgOWx3r5Ob%2BpcXqX2a1NL/t6Ldvyt8z6bhuH9oZBnmWpXnS%2BrY6C68sXPBYm3pCphpy8o3fc%2B/qKKK%2BsPmQooooAKKKKACiiigAooooAKKKKACiiigAooooAKKKKACiiigAooooAKKKKACiiigAooooAKKKKACiiigArxnxx/wApC/hf/wBkZ8ef%2BnbwhXs1eM%2BOP%2BUhfwv/AOyM%2BPP/AE7eEKAPZqKKKACvEP2/vDfiLXfgno2raJ4U1LX7Tw38S/Cuv%2BIND0fTpLy6vNNsdatLm4MVtErSXLwrH9pEKKzyfZ9qK7lVPt9FAHwl4j8K%2BNPGH7DPxp8P6J8HvGsR8a/Em88VeGtBfwhf22o6fo0%2BuWxk1GG2khUm%2BVoLvVY9OcefIzxrLDmZkPnMPw2%2BKlpfw/Ee7vPjnp2jSfHfXNYtfjZpnwokm8a3cM3hKysUuLnw/wD2TJHFHJOtxYCX%2Byo1EOnW7%2BWjTm7b9M6KAPEP2OfA3xa8G/8ABPz4afDix0HSvAfi7SfhxpVhDp2r6RPfW2kzRW0cYSa2F3HK5Cr80f2ncrEgyNjJi/4J02/iW0/ZuvrXxlq1jf6vH8W/iGup32mac9pbXE48Z615kkUDzTNChbJCNLIVBALtjJ90rxn9g/8A5Ihrn/ZZviP/AOprrdAHs1FFFAHxZ/wTy1s%2BNv8Ago1%2B2N43kjB2eKPDmkRSY6fYrW7tmH/kNPyFfadfGH/BIKwsNZ8UftOfFWymEg1z9pHX7aKT%2B9DAySRn6YuTX2fXjZBd5ZGb%2B1KpL76k2edlPs3l8JQVlLml85VKjf8An8wooor2T0QooooAKKKKACiiigAooooAKKKKACiiigAooooAKKKKACiiigAooooAKKKKACiiigAooooAKKKKACiiigArxn9l/wD5Lf8AtHf9lmsf/UK8L17NXjP7L/8AyW/9o7/ss1j/AOoV4XoA9mooooAKKKKACiiigAooooAKKKKACiiigAooooAKKKKACiiigAooooA8X/Y5%2BLvxw%2BJV18UvB3x%2BvfCl3rPw/wDiY3h62vvB%2Bi3Nha3Fq2jaVqSForm6uXMitqDxlw4VxGrBEyRXjHgf9uL9qLVfhV8ZtW1uPQpviX4S8HeLtZ8AfCOT4M%2BINJvr4abdXUNhOk93esNct5gtkHawjQb7yNQ6F0B9n%2BBP7HmsfAnxp4v8a2n7WXxK8RyeOPFcPiDXrHxDaeHRA92lrb2ZCfZNIgdI3t7S2iYB84hDKVdnZpNM/Y/uIPiDe/FnxF%2B018Rtd8TjwxqOgeFtZ1MaKr%2BFrS%2Bmtp7j7FFb6bFDJIz2dmfMvEuWxbKOQ0gcAsfsd/GvWPjT4E1a68W/FHRvEevaPrZs9WttM%2BGuq%2BEZ9IY28MqW11purXVxdRylZPNEjFFkjljKpgb35S/%2BLnwo8c/8FNvBfgLwT8TvD2sa74Y%2BD3jiLxLoula1BcXekvJq3hLy1uYY3LwFtj4DhSdpx0NeifAf9nbSfgdeeJfEdz8RPEnjHxJ4v1GG88ReKfFb2Yu7ow26W8EQjsba2tooo40AVY4UyWdmLMzMec8cf8pC/hf/ANkZ8ef%2BnbwhQB7NRRRQBX1XS7DW9LudF1S2Wa1vLd4LmF%2BjxupVlPsQSK/J/wCEGh%2BM/gv%2Bx/4Q/ar8C2c994w/ZL%2BJmv8AhDxzZwj99q3hr7c7Xlu46EwxXKSJn5UAkfqBX60V8I%2BGfib8Nf2Hv22vjZ8JP2qNPn0H4c/G7XrTWPBvibVrEnRL26uLLy9TtLi45SF2kwMPgFVJYqCu75vP6FOdSjUnLlXvR5ukW0pQk30tUgt7LW1/eLyjiOPBnGOX51VipUV7SjWi3aM6NaHLOnJ7JTSlFN6Rm6crpxTPtvwX4w8N/EPwfpXj3wbq0V/pGtadDfaZewnKT28qCSNx7FWB/GtOvhP9kL9obwx/wTu8RXv7Cn7UHiG70fwmmvzTfBH4iasjHSNV0a5PnxWT3vKJNCXZSXKrggAgBN33TBPBdQJdWsySRSIGjkjYFWUjIII6gjvXq5djoY6hd6VI6Tj1jLqu9nvF7OLTTZ9VxhwtX4YzNqnephKvv4etb3K1J2cJKSvHmUZKNSF%2BanUjOMoxsrvooorvPkgooooAKKKKACiiigAooooAKKKKACiiigAooooAKKKKACiiigAooooAKKKKACiiigAooooAKKKKACvGfHH/ACkL%2BF//AGRnx5/6dvCFezV4z44/5SF/C/8A7Iz48/8ATt4QoA9mooooAKKK%2Bfv%2BClx0wfs12v8Awmfl/wDCFf8ACwvC/wDwsj7R/wAe/wDwj39s2n237Vnj7Hs/4%2Bd37v7N5/mfu99AH0DRX536j4o%2BHL/8EzPjR4I%2BGPiewh8FTeOL9/h3b6PcRtZ2PhSfW4Lc3/kJkvoEdx9vdxGBC9hFKkLCMoR5LYWejwfDmx8Ir4%2B%2BCK/Bc/tJ6sNd8ZXnhvZ8Lbtf%2BEStp7I2%2BlLfLClgt4ZbdoGvngbVYnn81pWS3AB%2BtVeM/sH/APJENc/7LN8R/wD1NdbqT9l3x7408Z/sQ%2BCPHfw9%2BCnh7QdXufBdm%2BjeCZb2bSdJt1WNUiijkW1lktrUxqGiH2dmWMoCgOcZv/BOm48S3f7N19deMtJsbDV5Pi38Q21Ox0zUXu7a3nPjPWvMjineGFpkDZAdooywAJRc4AB7pRRXx3/wUR/4K8fAf9kLRdY%2BG/gu6Xxh8Q0s5Im0bSrgeRozspVZL6cZWIgkEQjMrHau1dwauPHY/CZdh3WxE1GK79fJLdvyX/BM51OWcKcU5TnJRhCKcpznLSMIQipSnKT0UYxbfa12sj/ggVZXk/7D2peO7wHd4t%2BJWtauHP8AHuaKEt/31AR%2BFfbdfNP/AAR9%2BGHiv4Qf8E4vhl4J8caBc6Zqo0%2B9vbqyvIGimjF1qFzcxh0YAq3lypwRkV9LVy5DSlRyXDwlvyRv6tXf4snD4TGYDDwwuLjy1acVGcdHacUlNXTa0lzLRtXT1e4UUUV6xsFFFFABRRRQAUUUUAFFFFABRRRQAUUUUAFFFFABRRRQAUUUUAFFFFABRRRQAUUUUAFFFFABRRRQAUUUUAFeM/sv/wDJb/2jv%2ByzWP8A6hXhevZq8Z/Zf/5Lf%2B0d/wBlmsf/AFCvC9AHs1FFFABRRRQAUUUUAFFFFABRRRQAUUUUAFFFFABRRRQAUUUUAFFFFABRXM/Cz40/Bz456Jd%2BJvgn8WfDPjHTbDUpNOvtQ8La9b6hBb3kYVpLeSSB3VJVDoWjJDAOpI5FZngb9p/9mn4oa9rfhX4aftD%2BBvEWqeGhMfEem6F4ts7u40oRSGOU3McUrNBskVkbeBtYEHBGKAO5rxnxx/ykL%2BF//ZGfHn/p28IV6H8LfjD8JPjj4VXx38FPil4c8YaG1w8C6z4W1u31C0MqY3xiaB3TcuRlc5Gea888cf8AKQv4X/8AZGfHn/p28IUAezUUUUAFYvxC%2BHPgL4s%2BD734f/E3wdp2vaJqUXl32l6raLNDMvbKsCMg8g9QQCCCM1tUVMoxnFxkrpkzhCpBxkrp6NPVP1TPhr4lf8EwfjZ8J/COpeCv2PfiloviT4d3zM9x8CvjNZPqejKCclbK75uLQg5KAHhzuMmRmvmHSvj7%2B1h/wTguxoumaZ4w%2BFmiQXGB8Pfivps/iPwdyf8AV6brtkGntwedsTKUUuDJK3Jr9g6jvLOz1G0ksNQtY54JkKTQzRhkdSMFSDwQR2NfOYrhujKaqYSpKlJbW1S8lrdL%2B6pOP9xHbkGccQcJ0J4XKcQvqs3eeFrwWIwsn39jUd6craKdCpSmlonayPiD4Gf8F1v2cfFdjBa/tFeFNT%2BHt0zrFJrltKut%2BH5ZT0WPULLeA3qrouzOC3Br7D%2BG/wAWPhf8YvDqeLfhN8RNE8S6ZIBtv9C1SK6iyexaNiAfY8ivDPjH/wAEjv2BPjNfS69efAi08NaxLuI1rwRcyaROjN95ttuViZj3Lxtmvlvxd/wbuap4G8Qf8Jt%2ByN%2B2p4k8KanbqwsjqdntuBk5Gb2xeB857mNjWMa3FmA0qUoYiPeMuSf3NJP8D1q2b8LZgubFZdVwdTrLC1I4mi3/ANeMS6OJpryhiK1lor6X/Teivza8P%2BD/APg4n/ZiC2mmeJfAvxm0y2/1dtqV/C0roPWWf7HOzY/vSPz0z37XQf8AgrT%2B1h8Of9F/av8A%2BCVnxS0iO3X/AEzW/BFm%2BqW3HUhWRI0H1nb6110%2BIsMtMTSqUX/ehK3/AIFFTX5HgYuvktDWli4tf36dajL5xqU3G/pVl621PvCivj/wT/wXV/4JweKYxB4m%2BLGreEdQ8zY%2BleKfCl7HNGf9poI5Yl/F69j8H/t%2B/sP%2BPRGPCn7XHw6uZJQPLtn8X2kUx/7ZSSK/6V30M3yrE/wq8H/29H8m0/wPOjm2VTm4RxFNva3PD/5JHrtFUNA8V%2BF/Flr9u8LeJLDUoMZ87T7xJl/NCRV%2BvQTUldM7oyjJXTugooopjCiiigAooooAKKKKACiiigAooooAKKKKACiiigAooooAKKKKACiiigArxnxx/wApC/hf/wBkZ8ef%2BnbwhXs1eM%2BOP%2BUhfwv/AOyM%2BPP/AE7eEKAPZqKKKACiiigAooooAK8Z/YP/AOSIa5/2Wb4j/wDqa63Xs1fCfjn9pjxN%2Bz7%2BwnrXhr4THzviP8RPjx8Q/DHw9tEcB1vrjxrratdE/wAKQRlpC5%2BVWEYbAaufFYmng8NOtU2ir%2Bb7JebdkvNo5cbi6WBwk8RU2ir6bvokl1bbSS6tpGf/AMFLv%2BCkep2th4r%2BAf7MXjE6ZD4ZttvxV%2BKNoPMTw8shKJpdgQQJ9UnbMaqpHlHcSyFJJIKX/BM3/gk3oXhmDQ/2lf2mvA1tb6pGkd74N%2BHkwMsWhlgGW91B3AN5qbcMzuAIicKq7I0h53/gnH%2Byh4S/aF8QeG/E9hpiy/Az4OXzr4K8632f8LA8Vr8t54kuAwzLEkgZYA2cBVUEbJEP6V18vlmAnnGK/tLHe8l8EfsrzS6pPRN/G05vT2aX6J9Wr%2BHGB%2Brza/trEQ/2motXg6U4q2BoS3hUcZXxtWNqkpSWGUowhViyiiivsD4UKKKKACiiigAooooAKKKKACiiigAooooAKKKKACiiigAooooAKz73xPpFhdvYSG5lljAMiWthNPsyMgMY0YKSOcHnFaFeT/Hb9qz4B/sf%2BG9S%2BJf7RXjz/hHdEvvFcGmWt7/Zd1d77p9PSVY9lrFI4ykMp3EBflxnJAOdWtSoUnUqyUYrdt2S9WdmX5fj82xtPB4GlKrWqO0YQi5Sk9XaMUm27J6JdH2PRP8AhMNJ/wCfTVf/AAR3f/xqj/hMNJ/59NV/8Ed3/wDGq%2BYP%2BH5f/BLT/o6H/wAsnW//AJCo/wCH5f8AwS0/6Oh/8snW/wD5Crzf7eyP/oKp/wDgcf8AM%2B0/4hP4o/8AQixn/hNW/wDkD6f/AOEw0n/n01X/AMEd3/8AGqP%2BEw0n/n01X/wR3f8A8arkP2af2rPgH%2B2B4Fu/iX%2Bzp48/4SLRLHVpNMur3%2By7q02XSRRStHsuoo3OEmiO4Ar82M5BA8L%2BP37cf7RX7Pvxw%2BO9wfg/4b8TfD/4VfCHQvFVlaReLZbPVrm5um1kNEqGweJvNksFj%2BaZREsayDzDK0cXpUq1KvSVSlJSi9mndP0Z8XmGX4/KcbUweOpSpVqbtKE4uMovR2lFpNOzWjXVdz6j/wCEw0n/AJ9NV/8ABHd//GqP%2BEw0n/n01X/wR3f/AMar5o%2BMn/BRnxr%2Bzz8Q/C3w/wDiv8E9CluNQu9Gg8ZxeEPEutavL4aXVdYfTrGaSSPQVtFjYeVKTd3NmzEXCQrOYkabCvP%2BCjvxe0qS78P/AA6/Z9h8YXtqvxR1e%2Bn8R%2BP4tNFvYeFPEy6UYYmt9LcSPMs6GFGQFBGqTTyMWuDocZ9af8JhpP8Az6ar/wCCO7/%2BNUf8JhpP/Ppqv/gju/8A41VD4afEa3%2BKHh2z8XaR4Z1K00rUtJstR0u/vjAEvIrmBZhsWOVnUoGCsJFT5j8u8c18xfslftF/H/xn8Wfhz4k%2BIXxTn1vQ/jN4d8XapH4Rl0ixgi8KNpuo2i2cdrLBAk8ii2uHhuPtMkxacRvGYVzEQD6s/wCEw0n/AJ9NV/8ABHd//GqP%2BEw0n/n01X/wR3f/AMar5F%2BOP7Tn7TXwc/a8S11688bR%2BHb34u%2BF/DPhXwxZeBYZfDeqeHtUgsba41O41b7K0kV9DqNzdgQC6jPl2sX%2BjOjvOfMvh5%2B2B/wUD8SzeI5/D2ra5q994l%2BGPi/W/AMGo6Fosul61dWOsWcFrc%2BGRZql1LBFZXLu0Orsstw8tmYQ8fnuAD9B/wDhMNJ/59NV/wDBHd//ABqj/hMNJ/59NV/8Ed3/APGq%2BP8A4XftG%2BLvG/w/%2BMGmfED9rn4meCvDfwm8UWF2Pil4l8A6VpOv3ulXGkRXD2k9jfaQIo2W6kYIfsEc0sfkIisXE0vKeOf2xv2tdD0L4e%2BC/i7L8SvCl/p3wUuPHvxP1j4c%2BEdCm1WGGO5WFZLqHVllt4FigWSa5tbWOW6eaVUt1CwuGAPu%2By8T6Rf3aWEZuYpZATGl1YTQb8DJCmRFDEDnA5xXlP7L/wDyW/8AaO/7LNY/%2BoV4Xr0q71TTtcbwzrekXaXFpeXvn2s8Zyskb2c7Kw9iCDXmv7L/APyW/wDaO/7LNY/%2BoV4XoA9mooooAKKKKACiiigAooooAKKKKACiiigAooooAKKKKACiiigAooooA%2BVf2Fvil4ah%2BLPx206H4X/EXQrTxB8Zbe%2B8Nvrfwe8Q6Ta3Vk3h3RLFZo5LqwijEYuLG5QnICCMM2EdGbxjxT8N/jTqfwo%2BL37K37Mr/FTxd4B1n4YeMr6/0r4j/Dp9BNlr91qcdxFpGl3U9hYtfQ3kd3qyMWNykYigJuEWQB/0RooA%2Be/2N2vfGXxp%2BMXx00PwB4j8NeEvFepaHFodn4p8LXeiXV9c2elxw3V79ivIop41INvah5I1L/YcrujEbMy/034r2n/BTbwXeeNvGnh7UNCuPg944PhrTtK8MT2d3YINW8JeYtzcyXsyXZOUwUhtwu05Dbht%2Bh68Z8cf8pC/hf8A9kZ8ef8Ap28IUAezUUUUAFFFFABRRRQAUUUUAFFFFAGL44%2BG/wAO/idpX9hfEnwFoviGxyT9j1zS4buLJ/2JVYfpXg/xL/4JCf8ABN/4qb5Ne/ZT8O6fK%2BSsvhozaVsPqFs3jT8CpHtX0lRXLiMDgsWv39KM/WKf5q/4msa1WCsnp2aTX3SjNf8Akp%2Benjf/AINwf2QL%2B6OrfCv4s/EHwlegkw%2BXqUF1DF9A0Sy/%2BRa4vVP%2BCJH7fvw3iK/s8f8ABULxCgU5hiv9S1XSwB2Um3up1I/4B%2BFfp/RXjVOE8hk7wpcj7wlKH5St%2BB2UcbhIP97gMLV/x4Wjd%2BsqSw8//Jr%2BZ%2BU99%2BzN/wAHDHwjtSvhb47X3i%2BaIcS2PjywuFfHcLqtqhP0Jqj/AMNJf8F3PhbDn4laR8R9QeP/AFg0/wCBmk6tEPrJp9ypI9wK/WaisHwvyfwMZWj/ANv8y/G35noQxnBlVWxOR0/Wjisfh38ksRXgvlA/JeP/AILC/tzeCHWL4ifEb4VaEwOGT4kfCbxXpz59D9ijlUH8cV3Hg/8A4LIftL65s8nxT%2ByxrG7oIviReaKW/wDBkqY/Gv0vkjjlQxSoGVhhlYZBHpXD%2BMP2YP2aviFu/wCE%2B/Z68D62X%2B%2BdX8J2dyT%2BMkZpf2LntL%2BHjW/8XMvy5vyNPqnhhiN6WZYd/wDTvG0ayXpHEYSL%2B%2BbPlrwl/wAFG/28fE23/hGf2DfAHjBW6SeEP2jtEk3e6qwYn6V1P/Def7c%2Bm/8AIyf8Ek/G8WPvf2X480y9/LYBmuq8Xf8ABJH/AIJv%2BNt39s/skeF4d/X%2ByBPp/wCX2WSPH4Vy3/Dl/wDZA0T/AJJb4j%2BJngbb/q/%2BET%2BJF/D5f%2B75zyUfVeJ6f/L3m9JQ/wDbqP6h/qz4f1/4PEGPo%2BVXB4Wql6yo1YN/KIn/AA8x%2BM2m/wDIy/8ABLf4%2BxY%2B9/Zeg297%2BW2UZo/4e1aLZceJf%2BCf37UGlY%2B8958I22fgy3ByPwpf%2BHZHxX8Nc/DL/gp9%2B0BY7f8AVp4j8SQawi%2B22WJcj2o/4ZG/4KgeGufCH/BViPUYl%2B5Z%2BJPg7pj5%2Bs0cm8/lRz8RQ%2BJT%2BUaEv/b4P8A/1Dyyr/uvF1D/ALjYOvTf4QqpfeIf%2BCyX7N9p/wAjB8G/jNpOPvf2j8L7xdv127qB/wAFs/2B7YZ1zxZ4u0v1%2B3/D3VFx9dsDUp8D/wDBa7w3/wAgX45/AHxLt6f8JD4Z1Oz3/X7KTj8KP%2BFg/wDBajw9/wAhj9nv4EeItvX%2BwPFeoWm76fagcfjR9dziHxc69cPf/wBIrMP%2BIa8QT/3biHLanrUUH91SFP8AMltP%2BC3/APwS%2Bun8lv2nFgkH3o7rwfrEZH1LWmP1rXsv%2BCxn/BNC/wAeR%2B1joa5/57afex/%2BhwCueu/2oP8AgqBYJ5Xi7/gk5pmtxD782j/GbS8fhHNFuNZF9%2B2B8XrbP/Cx/wDgjJ484/1n9kQ6Xqv5bNuaP7Vx0fiqJeuHrr8mw/4hb4ly/gYnA1f8GIwz/D67F/gj06z/AOCrP/BOi%2Bx5H7Xvg1c/89r9o/8A0NRWpZ/8FKf%2BCf19jyf2yfhyuf8Ant4rto//AENxXg95%2B21%2BzRHlfiL/AMEifjPpePvzX/wDtpofwdXOfyrKu/23P%2BCQHP8AwsD9j5tEP8f/AAkH7P5G367bZ6P7bqrfEUV6xrR/NIP%2BIUeNL/h5fCp/gXtP/TWJqn0/bft/fsJ3f%2Bo/bQ%2BFJJ6BviFpqn8jNV63/bX/AGNLvi0/a2%2BGMuenl%2BPdOb%2BU1fJdr%2B17/wAG8Ovy%2BRdeDvhJBN0dNQ%2BCckDKfQl9OA/Wtex%2BIf8Awb3eJMfZ9O%2BAce7/AJ7%2BFrW0/wDQ4ExWkM5rT%2BHEYZ/9vz/zOXEeGvjXhP42TVF64fGfpTkfVtr%2B1X%2By9e4%2BxftI%2BAZs9PK8Y2TfylrStPjz8Db8gWHxn8Jz56eT4itmz%2BT18rWngL/ggV4lwLSX9nIs3RBrmmQMf%2BA%2BaprRt/2Of%2BCI/igf8Szwf8Grrd0%2BweKYOfp5dxXTHH5hP4ZUH6VJf8E8Svw54k4T%2BPlrj608XH/0rDn1dZ%2BPfAuogHT/ABppM%2Benk6jE38mrSt7u0u132t1HKPWNw38q%2BS4f%2BCVX/BIjxRg6b8DPCFzu6fYPFl2M/Ty7oVNJ/wAEPv8AglregTx/sxRjPKvB4z1lR%2BG28xW8a%2Bcy2pUn6VJf/K2eTV/1poO1XC00/OpUj/6VRPrKivkv/hx5/wAE00/49fgXqUA9IvHesj%2Bd2aT/AIch/wDBOxf9T8LvEEY9E8fat/8AJNV7fOv%2BfEP/AAY//lZl9Y4h/wCgan/4Of8A8qPrWvGfHH/KQv4X/wDZGfHn/p28IV5h/wAOSP8Agn2PueA/FC/7vxA1X/5Iqp8FP2JfgD%2Bxz/wUL8Gf8KM0bVrP/hI/gz4y/tT%2B1PEF1f7vs%2BreFfL2/aJH2Y8%2BTO3GcjOcCtaFXM5VUq1KMY9Wptv7uRfmb4avnM6yVehCMerVRya%2BXs43180fYFFFFegeoFeIft/eJPEWhfBPRtI0TxXqWgWniT4l%2BFfD%2Bv65o%2BoSWd1Z6dfa1aW1wIrmJle2eZZPswmRlkj%2B0bkZHCsPb6zfGPgzwf8AETwtf%2BB/iB4U03XdE1S2a31PR9YsY7q1vIWGGjlikBSRCOqsCDQB8Z%2BI/iZ8RvCv/BPn4zaN4a%2BLuvmXwx8Vb7wd4C8Vahr1xPfXEMms2tpDaS6lJIZ0CXFzLpzX7O01ukRmZnkhJPkvxD/aF/aD%2BFP7Lvxd%2BAGqaj8T9M1iz%2BIWt6dq/iLwVceJPHJ8DaZB4b0zU0s7XXY7Z7%2BR7lryHbd3aWzWpvL0IyixgMn6D6b%2Bzt%2Bz9o3hFvAGkfAvwdaaC%2BhHRH0S28MWkdo2mF3c2JhWMIbctJI3k42ZdjjJNW/BfwU%2BDXw4%2BH8nwm%2BHnwl8M6D4VljmSXwzoug29rp7rNnzlNvEixkPubcNvzZOc5oA5H9n/wCKmseIP2N/BPxa0rwn4p8VahdeBdNu/wCynthZ6tqUxto9%2BV1WS2CyM25t07xhvvbjkE/lQ2p/Gj4l2PxB%2BLOreE77R9ev/jL41%2BE/wE8K6pJCbix1TWfFOqTa1qEht5JYxLBDPJameGSSIMOHPlhj%2B0ml6Xpmh6ZbaLounQWdnZwJBaWlrCscUESKFVEVQAqgAAADAAAFfnP/AME99B1L9pj9vTxl4m1jTmXwn%2Bzt8QviFYaNG6/u7jxHq/i7WLie4Xs3l2jIhGMq%2Bxs814Of0Hi8PToJtOc0lb0d2/8ADHmkv73L2Pr%2BB8qwGJz%2BOb49KWHy1PFyg/hqTpWWHptdVLEzo3XVQlfRH3l8B/g94X/Z9%2BDHhj4JeC4tumeF9Et9PtnKgNL5aANK2P43bc7HuzE11tFFe3TpwpU1CCskkkuyWi/I%2BYxeLxOPxdTE4iTlUqSlKUnu5SblJvzbk38woooqznCiiigAooooAKKKKACiiigAooooAKKKKACiiigAooooAKKKKACsvw//AMhbXP8AsKp/6SW9aleT/Hf9oT/hmvw1qPjr/hR/xE8f/a/FcNh/Y/w08M/2rfw7tPSTz5IvMTbCPK2F88NJGMfNxnVq06FN1JuyW%2B7/ACTf3JmVevSw1GVWo7Rjq3q/wSb%2B5M9Yor5L/wCHsP8A1jU/a0/8M3/91Uf8PYf%2Bsan7Wn/hm/8A7qrzv7byr/n5/wCSz/8AlZ5P%2BseSf8/v/JKn/wAqPrSvMfiv%2Bx1%2Bz58bfFWr%2BMviP4R1G7vfEHhVfDevpZ%2BKtSsrfVNMRrh44Lm3triOG4MbXdyY5JEaSIzuUZc1b/Zo/aE/4aU8CXfjr/hR/wARPAH2TV5LD%2Bx/iX4Z/sq/m2xRSefHF5j7oT5uwPnlo5Bj5efKv2hf2y/ih8Hf2iV/Zq0rQdBm1zxtN4a/4VM13azkX6T38sOvecqzAynT7OA3x2GMFJ40PILH0aVWnXpqpB3T23X5pP70j1qFeliaMatN3jLVPVfg0n96R33xe/Yc/Zj%2BO3j9fiZ8UPAV9faqW0t7kW3irU7O0vJNNuzd6fJc2ltcx291JbzkvG80bsmcA44q/p37Hv7Oek313qWn/Dvy576w8TWd0/8Aa94d8HiDUU1LV0wZsD7RdokuRgxY2xGNCVr4o/aQ/wCCkvx28SfDL4%2BeCNFkew0HUv2cPil4p%2BFHj3RNKXQ7%2BCXQPLsxLC8es3d1KRJdhlupLbTislqGjjcSfuvYbj9rP47Xv7THiv8AZ0%2BGF34Q0O%2Bn%2BK%2BrWVv4k8ZwajqVnFYaf4U0DUXgW3%2B3xbbiWTUWIEMkMKRW88xhkk8xpNDU%2BpPAvw38J/DbTYtG8HQXtvZW%2Bn2lja2U%2Br3NxDbwW0QhhSJJpGWLCABigBcjc5Zua4nwl%2Bxb%2Bzn4D8XeIfHXg7wfqenap4lstStLy5tvFuqKLGLULgXN8NOT7Ts0kz3AWeRrIQM8yJIxLorDkP8AgmF8QfiX8T/2E/g5478eahHq7a18K9G1C78RXXiGa9vb2/lh3TeZ5kX7xNvlsJzKWcuwKLtDN5D8NfiD8QZ/2nvCHxHuPiv4nuNd8V/tK%2BNvAvibwdceJbqTS7Tw5p2l63LY%2BXprSG3tZANN0m6N0kayv9vZWdlnQAA%2BotT/AGZfhDrnxe0/446/p2t6hr2kyLLpUWo%2BMNTuNNsrhYGtxcxabJcmyjuRE7p9oWES4kf5/mbPPeDP2EP2Yfh7qWrat4L8F6xp8%2Bq6LqGko0HjbV8aRZX0qzXcGlqboro6ySpG5%2Bwi3%2BaGJhgxoV%2Bfv%2BCi%2BsftR/CX4oah8bvBlp4w1LTbaLwja/Do%2BHviEunaTp2pvrTQ31rqmmfaozqTXyTW1vD%2B4u8nKr9lZTO3byfDvT9U/wCCmq2Xgn4k/EK00rwh8Pb7xH8RbOf4qa7Ppdxf6xO9rpluLGe9e0gSOG01afZFEnlN9kZQgC5AO%2B8R/wDBPT9lXxZ8NrT4Va74T8SSabaeNYPF322L4j69Fql1rcMflw31zqUd6t7dyRosYTzpnCeRBtA8iLZo/EH9h/8AZy%2BKvhjRvCXxF8PeIdXtdD0u60y3nu/H%2BtG7vNPumRrmyvroXgn1G1lMcfmW9080T%2BWoZSFFfHnxW8cftI/s6av8ZPgp4T1vX4Xu9R%2BGVr4c0cfGLVvEMlnpet%2BJ7rSbrUv7a1ZTdaXcXUKiFoVSSOz%2BzpcwPO7yBfrX9hnxhZ698Ltc8GHw9rGl6n4I8Z6h4f1%2B01f4hah4rAvYvLlYwarqJ%2B03cBSeMjzVRo23xFE8vAAPUdZt4LS/8P2trAkUUWpMkccahVRRaXAAAHQAdq8w/Zf/AOS3/tHf9lmsf/UK8L16l4g/5C2h/wDYVf8A9JLivLf2X/8Akt/7R3/ZZrH/ANQrwvQB7NRRRQAUUUUAFFFFABRRRQAUUUUAFFFFABRRRQAUUUUAFFFFABRRRQAUUUUAFeM%2BOP8AlIX8L/8AsjPjz/07eEK9mr5w/aP1f416P%2B3h8J5/gd8P/C3iLUm%2BEfjtbu08V%2BMLnRYI4P7U8JEuktvp96zvu2jYY1GCTvyApAPo%2BivGf%2BE4/wCChf8A0a/8Gf8Aw/Grf/MvR/wnH/BQv/o1/wCDP/h%2BNW/%2BZegD2aivGf8AhOP%2BChf/AEa/8Gf/AA/Grf8AzL0f8Jx/wUL/AOjX/gz/AOH41b/5l6APZqK%2BcdJ/aO/bt1j4z6/8Drf9lD4SLqnh3wvpGu3ly/x11TyJINRudSt4UQjwxuLq2lzlgVAAePBYlgvUf8Jx/wAFC/8Ao1/4M/8Ah%2BNW/wDmXoA9morxn/hOP%2BChf/Rr/wAGf/D8at/8y9H/AAnH/BQv/o1/4M/%2BH41b/wCZegD2aivGf%2BE4/wCChf8A0a/8Gf8Aw/Grf/MvXL%2BAf2jv27fiJ4r8b%2BENH/ZQ%2BEkNx4D8URaFqslz8ddUCTzyaVp%2Bph4tvhgkp5OowqSwU70cYwAzAH0dRXjP/Ccf8FC/%2BjX/AIM/%2BH41b/5l6P8AhOP%2BChf/AEa/8Gf/AA/Grf8AzL0AezUV4z/wnH/BQv8A6Nf%2BDP8A4fjVv/mXo/4Tj/goX/0a/wDBn/w/Grf/ADL0AezUV84/CL9o79u34y%2BFLvxf4c/ZQ%2BEltb2fijW9CkjvfjrqiuZ9L1W60ydxt8MMNjTWkjIc5KMpIU5UdR/wnH/BQv8A6Nf%2BDP8A4fjVv/mXoA9morxn/hOP%2BChf/Rr/AMGf/D8at/8AMvR/wnH/AAUL/wCjX/gz/wCH41b/AOZegD2aivGf%2BE4/4KF/9Gv/AAZ/8Pxq3/zL1y/wR/aO/bt%2BPHwY8IfHHwr%2Byh8JLXS/GfhfT9d0221D466os8MF3bR3EaSBPDDKHCyAMFZhkHBI5oA%2BjqK8Z/4Tj/goX/0a/wDBn/w/Grf/ADL0f8Jx/wAFC/8Ao1/4M/8Ah%2BNW/wDmXoA9morxn/hOP%2BChf/Rr/wAGf/D8at/8y9cv8bv2jv27fgP8GPF/xx8VfsofCS60vwZ4X1DXdSttP%2BOuqNPNBaW0lxIkYfwwqlysZChmUZIyQOaAPo6ivGf%2BE4/4KF/9Gv8AwZ/8Pxq3/wAy9H/Ccf8ABQv/AKNf%2BDP/AIfjVv8A5l6APZqK8Z/4Tj/goX/0a/8ABn/w/Grf/MvR/wAJx/wUL/6Nf%2BDP/h%2BNW/8AmXoA9c1PQ9F1qPytY0i1u0xjbc26yD8mBrmdW/Z5%2BAOv5Ou/A3wfe7uv2vwzayZ/76jNeQ/F39o79u34NeFLTxf4j/ZQ%2BElzb3nijRNCjjsvjrqjOJ9U1W10yBzu8MKNizXcbOc5CKxAY4U9R/wnH/BQv/o1/wCDP/h%2BNW/%2BZes50qVT4op%2BqT/NM6sPj8dhP4FacP8ADOUf/SZRNDVf2Ev2I9bJbVv2PfhfOx6u/gLT93/fXk5rnNU/4Je/8E89Xz9r/Y%2B8Cpnr9l0RIP8A0XtrT/4Tj/goX/0a/wDBn/w/Grf/ADL0f8Jx/wAFC/8Ao1/4M/8Ah%2BNW/wDmXrnll2XT%2BKjB/wDbkf8A5E9uhxnxlhf4OZ4mPpiK6/8Acxxep/8ABG7/AIJn6tn7V%2ByhoyZ6/ZtUv4f/AEXcLWO//BED/gmhG5l0j4BXunOTkvYeONYQ5/G7Ir0z/hOP%2BChf/Rr/AMGf/D8at/8AMvXL%2BPv2jv27fh34r8EeENY/ZQ%2BEk1x488US6FpUlt8ddUKQTx6VqGpl5d3hgEJ5OnTKCoY73QYwSy88sjyWT1w1P/wCP%2BR61LxR8S6KtDOsWl2%2BsVWvuc2jmv8Ahy3%2Bxfbf8gO6%2BIel%2Bn2D4j6iuP8AvqRqT/hz18Drf/kDftHfHbTfQWPxUuVx/wB9Ka9O/wCE4/4KF/8ARr/wZ/8AD8at/wDMvR/wnH/BQv8A6Nf%2BDP8A4fjVv/mXqf7CyfpQivS6/KSNf%2BIq%2BJD%2BLNa0v8ThL/0ulM8x/wCHSnh6D/kFft%2B/tQ2Hp9k%2BL7jH525qn8FP2U7r9mL/AIKF%2BC1n/aY%2BKvxFXWvgz4y2D4neKxqh0/ydW8K5%2Bzny08vzPNG/ru8qPpjn1r/hOP8AgoX/ANGv/Bn/AMPxq3/zL1Q8D%2BB/2rPGP7Vnhz43fG74cfD3wzo3hn4e%2BIdDhh8K/EO%2B1q6u7rUr7RLhGZLjSLFIo0TS5QWDuxaVAFxkjahlWX4aqqlKnaS85fk5tfgefmnH3GGd4GeDx2K9pTna6dOgr2aa96OGhNapbTXZ3V0/daKKK9A%2BPCiiigAooooAK%2Bf/APgnB8P/AAz4I%2BD3jnU9AsBFceI/2gPiTqmsTd7i5Pi/VoAx%2BkUESD2QV9AV8lfsleLP2ztP%2BHviiz%2BGPwD%2BGGr6Enxp%2BIv9n6jr3xd1HTbuZf8AhM9ZLGS2i0C5SIhtwAEz5AByCdolxi2m1qtjWFatTpypxk1GVuZdHZ3V%2B9nqvPU%2BtaK8Z/4Tj/goX/0a/wDBn/w/Grf/ADL0f8Jx/wAFC/8Ao1/4M/8Ah%2BNW/wDmXqjI9morxn/hOP8AgoX/ANGv/Bn/AMPxq3/zL0f8Jx/wUL/6Nf8Agz/4fjVv/mXoA9mor5x%2BCP7R37dvx4%2BDHhD44%2BFf2UPhJa6X4z8L6frum22ofHXVFnhgu7aO4jSQJ4YZQ4WQBgrMMg4JHNdR/wAJx/wUL/6Nf%2BDP/h%2BNW/8AmXoA9morxn/hOP8AgoX/ANGv/Bn/AMPxq3/zL0f8Jx/wUL/6Nf8Agz/4fjVv/mXoA9mor5x%2BN37R37dvwH%2BDHi/44%2BKv2UPhJdaX4M8L6hrupW2n/HXVGnmgtLaS4kSMP4YVS5WMhQzKMkZIHNdR/wAJx/wUL/6Nf%2BDP/h%2BNW/8AmXoA9morxn/hOP8AgoX/ANGv/Bn/AMPxq3/zL0f8Jx/wUL/6Nf8Agz/4fjVv/mXoA9morxn/AITj/goX/wBGv/Bn/wAPxq3/AMy9cv8AF39o79u34NeFLTxf4j/ZQ%2BElzb3nijRNCjjsvjrqjOJ9U1W10yBzu8MKNizXcbOc5CKxAY4UgH0dRXjP/Ccf8FC/%2BjX/AIM/%2BH41b/5l6P8AhOP%2BChf/AEa/8Gf/AA/Grf8AzL0AezUV4z/wnH/BQv8A6Nf%2BDP8A4fjVv/mXo/4Tj/goX/0a/wDBn/w/Grf/ADL0AezUV84%2BPv2jv27fh34r8EeENY/ZQ%2BEk1x488US6FpUlt8ddUKQTx6VqGpl5d3hgEJ5OnTKCoY73QYwSy9R/wnH/AAUL/wCjX/gz/wCH41b/AOZegD2aivGf%2BE4/4KF/9Gv/AAZ/8Pxq3/zL0f8ACcf8FC/%2BjX/gz/4fjVv/AJl6APZqwLTXtE0LXNYt9c1e2s3mvklhF1OsfmJ9mhXcu4jI3Iw47ivOP%2BE4/wCChf8A0a/8Gf8Aw/Grf/MvXL6t%2B0d%2B3bo/xn0D4HXH7KHwkbVPEXhfV9ds7lPjrqnkRwadc6bbzI5PhjcHZtUgKgKQQkmSpChgD3r/AITnwT/0OGlf%2BDCP/wCKo/4TnwT/ANDhpX/gwj/%2BKry3/hOP%2BChf/Rr/AMGf/D8at/8AMvR/wnH/AAUL/wCjX/gz/wCH41b/AOZegD1L/hOfBP8A0OGlf%2BDCP/4qsXWrL4EeJPF%2BifELxFaeEb/X/DQuR4c1y9jtZbzShcoI7gW0zZeDzUVVfYRvVQGyBXD/APCcf8FC/wDo1/4M/wDh%2BNW/%2BZej/hOP%2BChf/Rr/AMGf/D8at/8AMvQBfi/Z%2B/Ybg1TxBrkHwS%2BFCXviyyv7PxVeJ4b0wS6zb32PtsN2/l5uI7javmrIWEu0bw2K0fGXwu/ZI%2BI2n3mk/EL4d/DnXrXUdcj1rULbWdIsLqO61KOBLdL2RZVYPcLDFHEJjlwkaqDhQB5vpP7R37dusfGfX/gdb/sofCRdU8O%2BF9I128uX%2BOuqeRJBqNzqVvCiEeGNxdW0ucsCoADx4LEsF6j/AITj/goX/wBGv/Bn/wAPxq3/AMy9AHa%2BEdI/Z/8AAC2yeA9M8HaILPSYdLtBpENpbeRYws7Q2qeWBthRpJCsY%2BVS7EAZNUrTwL%2By7YfE6/8AjZY%2BDvAMPjPVbAWOp%2BLotPsl1S8tQEAglugvmyR4jQbGYrhF44Fcv/wnH/BQv/o1/wCDP/h%2BNW/%2BZej/AITj/goX/wBGv/Bn/wAPxq3/AMy9AG2PhD%2Bx4PF/h34gj4YfDT%2B3/CGlxab4T1v%2BxNP%2B2aLZRKyx21pNs320KB3CxxlVUOwAGTXQJF8D473WtSjj8KLceJFRfEU6i2D6oqReSguW6zhYgIxvzhPlHHFcJ/wnH/BQv/o1/wCDP/h%2BNW/%2BZeuX8A/tHft2/ETxX438IaP%2Byh8JIbjwH4oi0LVZLn466oEnnk0rT9TDxbfDBJTydRhUlgp3o4xgBmAO%2B8H/AAS/Yt%2BHngXWPhd4A%2BEXwv0Pwz4hVl1/w7o%2BgadbWGphk2MLi3jQRzAp8p3qcjjpXRfD%2By%2BBHwm8JWngD4V2nhHwzoVgGFjonh%2BO1srS2DMXYRww7UTLMzHAGSSeprh/%2BE4/4KF/9Gv/AAZ/8Pxq3/zL0f8ACcf8FC/%2BjX/gz/4fjVv/AJl6APR7vXtE13XNHt9D1e2vHhvnlmFrOsnlp9mmXc20nA3Oo57mvOP2X/8Akt/7R3/ZZrH/ANQrwvR/wnH/AAUL/wCjX/gz/wCH41b/AOZerf7K3w5%2BNPg/WPih47%2BOmgeF9J1Tx98Qotcs9K8J%2BJbnVre1tYtB0fTFV7i4srNmkaTTpXKiLaFkQbmOcAHrdFFFABRRRQAUUUUAFFFFABRRRQAUUUUAFFFFABRRRQAUUUUAFFFFABRRRQAV8r/tPftafFz4Y/GTxZrPgHw74Pk8MfB/w/4fvfGp1rSLibVtUt9Xv5UuYLC4juI0svItrOO4/eRTi5kKRkQ%2BX5p%2BqK8Z%2BM/7EPw4%2BN3xSPxM1zxz4q0uLUbXSLXxf4a0a6tU07xTBpd7Je2MV8stvJMFjmmlz9nlgMschimMsYVAAezUUUUAFFFFAHzH4c/aV%2BJkP7f/AIo%2BD/xG1jw94T8Nr4gtNE8GRaj8ItZS68YwDQINRxB4ja7XTmlju7nUALQQvJ5dpMAoLNIv05Xlfiz9lqDx/wDGTSPin49%2BN/jXV9K8Pa7HrWgeALg6ZFo1jqEdu8Ec4aGyS9l2eZJIqTXUkYkfds%2BRAvqlABRRRQB4v/wUF%2BLvxw/Z%2B/ZH8afHr4BXvhSPWPBOhXeuXUHjDRbm%2Btru0tbaWZ7dEtrq2ZJXZEUSFyqAsSj8CvP/AB5%2B1n8XPBfx48W6n4U8O%2BD4vh54P%2BMfhH4feMrObSJzreq6rrsGipHqEN2lwsMccH9uaTGYpLeV5EhnxLHtQV7D%2B1j%2BzjZftafAjXv2fda%2BKvinwjpPieylsdcv/CC6d9rubKWJ4prbdf2l1GiOr8siLICo2uvOeLg/YB8HT/EWz%2BIvir44%2BPtdY6zpOueJtG1CXSorHxPrmmIiWOrX0dtYRMtxEILQhbZoIGNjbF4mMeSAe90UUUAFeL/tk/F344fBK18A%2BMfhZe%2BFP7G1D4meHPD3i%2Bx8QaLc3N1c2uq6zY6aDZyw3UKW0ka3Msm%2BRJ1JRF2ck17RXlX7V37Lb/tVeG9C8Lz/AB98b%2BBrfQvElhrqN4Lh0dnu72xvILyzaU6lp94NsVxbxuFjCBuVk3qdoAPOP2ef2lfiZrf7VXi34I/FDV/D3hPTofFOt2/gnwlJ8ItZ0y5162hdJTf2%2BtXF39g1B2Mk0ssVtAX5LsVwxP05Xkuk/soh/jJovxl%2BI/7QHjvxrN4Xu7y78J6F4hGkw2Gj3VzbyWslxEthp9tLK/2eaeFfPklVFnfaASCPWqACiiigDw/9u74ufHj9n74Nav8AHX4UeMfAtjp/hbRbm8vdF8WeGb2/ufEN7lFs9Ms5La9g%2BzTXEpFujeVdM0s8QWFj8ref/BH9r74z658S/Bf9reDPCWkfDTxv8T/FHw28K%2BGtO0uaPV9Ev9Ah1bfPPci4a3mgkbw/qaLDHbxGNWtj5kmWA9P/AGlf2QYP2kvHngj4gTftA%2BO/CFz4Bu7m90Wx8MRaNPZyXsqCNbyaDU9OvEeeGPzFhkAUxieUj5myKvgP9hn4e%2BA/jLb/ABdh%2BIvi7UoNO1zU9e0TwhqVzZf2TpWt6lG8eoapAkVqk/nzie7LK8zwo19cmOKPzOAD2uiiigAr5f8A2ufjx%2B0x8FviJp/hXSofAHjXR/HMOtW2i/DmLwffSawlraaHdXcl/cXAvniurYXUVvbSQi1iB%2B3woJjIyJJ9QV4dN%2BxNcR/tH%2BK/2mtE/ar%2BJenav4t02HTrnS4YPD89pp9nDA0cNtZtc6TLc28Syu91sWba87l3Dg7aAGfsIftB%2BN/j38Pby6%2BK/j7Rr7xdpws21/w3ZfC7V/CN5oDz2yyiC5stXup7hwW3%2BXcAJHIqHaG2k17pXm/wO/Zu074M%2BJ/EnxD1j4peKfHHirxXFY2%2BseJ/FzWC3L2lmJvstqkWn2trbRxRtc3LjbCGZriQszZGPSKACiiigD45/wCCgn7cfxU/Yv8AHP8Aaeu6LoHjHwi%2Bjajrdv4Vl%2BHOp2Utumm6Nfakkn/CRTXT6ZPd/a9NGyxWBLoRzLKBthaRvXv2aPi78c9W%2BKnjf9nr9o658KX/AIn8I6ToetR614K0i5sLG5sdTF5GkRgubm5dZYrjTrtS/m4kQxNsjJKit8dv2EvBH7TutXVr8f8A4t%2BNfFHgu5kuJF%2BGV5JpsOjRSTWM1kzB7eyjvpAI7iZgkt06B33bfkQL0/7Pn7M2kfAO817xFd/FDxZ448R%2BJDZx6t4q8a3Fm99LbWkRitbUfY7a3hWKIPKwxHvZ55XdnZyaAPSqKKKACviP9qf9sr9rP4N/GrxB8KPB3hvw5411Ow0W413wwE%2BB/iCOTRQNR0y1Qwt9uceJpBY6pced/ZflPC0JWURiYR19uV4fr37Fmp%2BJvHx%2BJ2tftc/FGbW9PgvIfBt4U0ADwqt1NDJP9kjGk7J2aOBbfderdMsTOFKu7OQDqv2WPiw/xk%2BEcHiy9%2BJmjeKr%2BHUbqy1S%2B0bwZfeHRbXEUrK1rNpuoXE91ZzxjCvHM4fPzbVDAV6NXDfAP4C%2BHvgB4Z1PRtK8U634g1HX9euNb8SeJPEc0DXuq38wRGnlFvFDAmI4oYlSGKONUiQBRgk9zQAUUUUAFFFFABRRRQAUUUUAUfFHiGw8I%2BGtR8V6qH%2By6ZYzXdz5S5by40LtgdzhTXzn%2BxN%2B0n8a/H/inR/Bnxs8PeDLNfHXwtsviN4Zh8GaVcWg0yO8uCbvT7szXEou5o3ubZ/tiCATtLMTBHtBf6Wu7S1v7WWxvbdJoZo2jmilUMrqRgqQeCCOMV5D%2BzN%2BxX4C/Zg1V9X0D4g%2BLfEstt4YsfDPh0eLL21mGgaFZvI9vptqbe3hLRqZPmlnM1xII4vMmfy1wAexUUUUAFcL%2B1B47%2BIvwt/Zp%2BInxO%2BD/hRde8W%2BHPAur6p4W0NrGa6Go6jb2csttbGGBllm8yVETy42DtuwpBINd1Wd4t0S/wDEvhjUPD%2Bl%2BK9R0K5vbSSG31rSFga6sXZSBNELiKWIup5AkjdMj5lYZBAPLv2Kfi1P8UPhnfWWrfELw/rOp%2BHdVXTrzTNE%2BGGp%2BDn0NBbQSRWdxpWqXM9zC4RxIrt5aPFLFsTA3v7FXnnwH/Z20n4HXniXxHc/ETxJ4x8SeL9RhvPEXinxW9mLu6MNulvBEI7G2traKKONAFWOFMlnZizMzH0OgAooooA%2BXP2qP2sfih%2Bzh8XvHFl8StG8JeIvhfYfs7%2BL/HttoVvolwmqu2iDS1ntri5kuXt5op1vpwEFshUImXfLCu3/AGZ/i/8AHzVPi54y/Z2/aWk8JXnijwx4Y8PeJY9V8FaTc2NlJZas%2BpW62xhubm5cyw3GkXYMokCyI8TeXGdy1B8Y/wBhXw78dPjq3xl8efHbxzLps3grU/CN98PYYNF/sS70bUltvt9pIX01r0idrSB2cXQdShCMiMyHpP2d/wBl3Q/2fb7W/Ec/xQ8W%2BN/EOv2thZX/AIn8bXNpJe/YLFJFs7Nfsltbx%2BVEZ7hwShkd7mV3d2bNAHp9FFFABXyJ8a/2l/2tvBmu/tAeBLfwr4M8WXvgLw/4U8SfDax0n4f6nfzrHqOq6lCEvLWK8eXUZ4F02OdTbC3JckKvyq1fXdeFy/sUeIYvjp42%2BP8AoX7aHxW0rVvG%2BkWOmXNjZWfhhrTTbayuLmezS2EuivJ%2B6N5dKDM8pdZyJPMKoVAOr/ZU%2BLc3xl%2BFI8Taj8TtG8U6ja6rc2OrXWj%2BCL/w2bO4ib5rWfTNRuJ7q0nRSu5JmDEMrbVVhXpNcJ8A/gHoHwB0LWbHT/FuueI9V8TeIJdc8T%2BJvEktu17qt/JDDB5sgtoYYIwsFvbwqkUUaKkKALnJPd0AFFFFAHxt%2B0t%2B13%2B0t%2Bzx8ZoPhtrSfDPxrfa3BBN4Rh07wte2kvgu81LxDpnh7SJtTle%2BnF1FO2rzgtEtnI4sbpYwy%2BYYvcv2Vfi/8SPiMPH/AMPvjGdEn8VfDTx43hrWdV8NadNZ2Gp%2BZpenatb3ENvNPPJb5tdUt0eNppcSRyYYgjHCW3/BNXwk118Q38Q/tL/E7Wbf4k68dc1i31I6F5lnqUVxDPp9zbXUWlpdKbB7e3FpG80kUSwoGR%2Bc%2BsfAP4C6H8A/D2rabZeL9c8Sat4i1%2BbWvE/ijxK9sb/V76SOKHzphawQQLsggt4ESKKNFjgjULwSQDuqKKKAGXP2n7NJ9j2edsPlebnbuxxnHOM18QfFb9rn9tP4afETXPhtb23gPxnr3hi98NW%2BreOvBHwV1/Vo/DlvqzXj3thLpVnqU93czRQ2VjdExTp%2B7uoWlgQGJpPt67hkuLWW3hupIHkjZVniCl4yRgMu4FcjqMgj1Br57%2BDH7AXiD4CfDa4%2BGnw7/bq%2BMUUd1qz6nNrN5ZeE59Qlu5XlkuZ5pn0I/aZJ3l3SSTiR8xpsKAYIB6z8BPiHZfFb4O%2BH/iFYfEDRvFSanp4kfX/D%2BkzWFpdyAlZClrPNNLbFXVkaGSR3jZWVjuUgdfXJfAv4L%2BEv2ffhfp3wp8FXN/cWVhLdXE19qtyJrq%2Bu7q5lurq6mcKoaWa4nmlfaqrukO1VXCjraACqPieHxJc%2BG9Qt/Bup2Nlq8llKul3mp2D3VtBcFCI5JYY5YmmjVsFkWSMsAQHUncL1ZvjHQb/xR4Wv/Dul%2BLdS0G5vLV4oNa0cQG6sXI4miFxFLEXU8gSRuhx8ysMigD4e%2BG/7dv7Wvxg%2BKet/BL4W6b8Pk8Z6ba67fSeM/Ffwu1rQl1TTNItdFlSxl0S8vk1DT5Xu/EOxJp5nj8qGS4jhdZ0B%2BxvgF8WdN%2BPnwK8FfHXRtNlsrPxr4S03XrSznbc8EV5ax3CxsQBkqJACfUV4tq//AATI8D61rl98Rbv9pT4pp8QNWS8tdb%2BJNre6RDq1/pl1bWttNphRNNFnDbFLK0YeRbRTLJAsqyhyzH6D8F%2BD/DXw88HaT4A8GaTFp%2Bj6HpkGn6TYQ52W1tDGscUa55wqKqj6UAadFFFAHL/GnUfHGjfC3Wtb%2BHPiGx0vVrCzN1Dfah4PvfECJHGQ8oGnWM8FzeSNErqkUMgcuy4Vz8jfFvwl/wCCiPx%2B8SeNND1PxvceEfAngzUp518QeOLz4GeIprbWL%2BHX7rSES5lW%2BjTwzPJa2lr%2B41RpJYHlWN87AlfbfxM8Ga7498JTeHPDfxS1/wAG3kksbxa/4ZisXu4NrAlVW/trmBgwBUh4m4Jxg4I8Vuf%2BCc3hTUPB9x8NtV/aQ%2BJt34Y1zUJr/wAeeH5p9HEXjC7nvHuria%2BlXTRcReaWWJo7OW1iEMSRqijduAPomiiigAooooAKKKKACiiigAooooAKKKKACiiigAooooAKKKKACiiigAooooAKKKKACiiigAooooAKKKKACiiigAooooAKKKKACiiigAooooAKKKKACiiigAooooAKKKKACiiigAooooAKKKKACiiigAooooAKKKKACiiigAooooAKKKKACiiigAooooAKKKKACiiigAooooAKKKKACiiigAooooAKKKKACiiigAooooAKKKKACiiigAooooAKKKKACiiigAooooAKKKKACiiigAooooAKKKKACiiigAooooAKKKKACiiigAooooAKKKKACiiigD//2Q%3D%3D\">"
      ]
     },
     "metadata": {},
     "output_type": "display_data"
    }
   ],
   "source": [
    "s.run(tf.global_variables_initializer())\n",
    "\n",
    "BATCH_SIZE = 256\n",
    "EPOCHS = 40\n",
    "\n",
    "# for logging the progress right here in Jupyter (for those who don't have TensorBoard)\n",
    "simpleTrainingCurves = matplotlib_utils.SimpleTrainingCurves(\"cross-entropy\", \"accuracy\")\n",
    "\n",
    "for epoch in range(EPOCHS):  # we finish an epoch when we've looked at all training samples\n",
    "    \n",
    "    batch_losses = []\n",
    "    for batch_start in range(0, X_train_flat.shape[0], BATCH_SIZE):  # data is already shuffled\n",
    "        _, batch_loss = s.run([step, loss], {input_X: X_train_flat[batch_start:batch_start+BATCH_SIZE], \n",
    "                                             input_y: y_train_oh[batch_start:batch_start+BATCH_SIZE]})\n",
    "        # collect batch losses, this is almost free as we need a forward pass for backprop anyway\n",
    "        batch_losses.append(batch_loss)\n",
    "\n",
    "        \n",
    "    train_loss = np.mean(batch_losses)\n",
    "    val_loss = s.run(loss, {input_X: X_val_flat, input_y: y_val_oh})  # this part is usually small\n",
    "    train_accuracy = accuracy_score(y_train, s.run(classes, {input_X: X_train_flat}))  # this is slow and usually skipped\n",
    "    valid_accuracy = accuracy_score(y_val, s.run(classes, {input_X: X_val_flat}))  \n",
    "    simpleTrainingCurves.add(train_loss, val_loss, train_accuracy, valid_accuracy)"
   ]
  },
  {
   "cell_type": "markdown",
   "metadata": {},
   "source": [
    "# Submit a linear model"
   ]
  },
  {
   "cell_type": "code",
   "execution_count": 90,
   "metadata": {},
   "outputs": [],
   "source": [
    "## GRADED PART, DO NOT CHANGE!\n",
    "# Testing shapes \n",
    "grader.set_answer(\"9XaAS\", grading_utils.get_tensors_shapes_string([W, b, input_X, input_y, logits, probas, classes]))\n",
    "# Validation loss\n",
    "grader.set_answer(\"vmogZ\", s.run(loss, {input_X: X_val_flat, input_y: y_val_oh}))\n",
    "# Validation accuracy\n",
    "grader.set_answer(\"RMv95\", accuracy_score(y_val, s.run(classes, {input_X: X_val_flat})))"
   ]
  },
  {
   "cell_type": "code",
   "execution_count": 91,
   "metadata": {},
   "outputs": [
    {
     "name": "stdout",
     "output_type": "stream",
     "text": [
      "Submitted to Coursera platform. See results on assignment page!\n"
     ]
    }
   ],
   "source": [
    "# you can make submission with answers so far to check yourself at this stage\n",
    "grader.submit(COURSERA_EMAIL, COURSERA_TOKEN)"
   ]
  },
  {
   "cell_type": "markdown",
   "metadata": {},
   "source": [
    "# MLP with hidden layers"
   ]
  },
  {
   "cell_type": "markdown",
   "metadata": {},
   "source": [
    "Previously we've coded a dense layer with matrix multiplication by hand. \n",
    "But this is not convenient, you have to create a lot of variables and your code becomes a mess. \n",
    "In TensorFlow there's an easier way to make a dense layer:\n",
    "```python\n",
    "hidden1 = tf.layers.dense(inputs, 256, activation=tf.nn.sigmoid)\n",
    "```\n",
    "\n",
    "That will create all the necessary variables automatically.\n",
    "Here you can also choose an activation function (remember that we need it for a hidden layer!).\n",
    "\n",
    "Now define the MLP with 2 hidden layers and restart training with the cell above.\n",
    "\n",
    "You're aiming for ~0.97 validation accuracy here."
   ]
  },
  {
   "cell_type": "code",
   "execution_count": 96,
   "metadata": {},
   "outputs": [
    {
     "name": "stdout",
     "output_type": "stream",
     "text": [
      "(?, 256)\n",
      "(?, 10)\n",
      "(?,)\n"
     ]
    }
   ],
   "source": [
    "# write the code here to get a new `step` operation and then run the cell with training loop above.\n",
    "# name your variables in the same way (e.g. logits, probas, classes, etc) for safety.\n",
    "### YOUR CODE HERE ###\n",
    "logits = tf.layers.dense(input_X, 256, activation=tf.nn.sigmoid)\n",
    "logits2 = tf.layers.dense(logits, 256, activation=tf.nn.sigmoid)\n",
    "probas = tf.layers.dense(logits, 10, activation=tf.nn.softmax)\n",
    "\n",
    "print(logits.shape)\n",
    "print(probas.shape)\n",
    "\n",
    "classes = tf.argmax(probas, axis=1) ### YOUR CODE HERE ### apply tf.argmax to find a class index with highest probability\n",
    "print(classes.shape)\n",
    "\n",
    "# Loss should be a scalar number: average loss over all the objects with tf.reduce_mean().\n",
    "# Use tf.nn.softmax_cross_entropy_with_logits on top of one-hot encoded input_y and logits.\n",
    "# It is identical to calculating cross-entropy on top of probas, but is more numerically friendly (read the docs).\n",
    "loss = tf.reduce_mean(tf.nn.softmax_cross_entropy_with_logits(labels=input_y, logits=probas)) ### YOUR CODE HERE ### cross-entropy loss\n",
    "\n",
    "# Use a default tf.train.AdamOptimizer to get an SGD step\n",
    "step = tf.train.AdamOptimizer().minimize(loss) ### YOUR CODE HERE ### optimizer step that minimizes the loss"
   ]
  },
  {
   "cell_type": "markdown",
   "metadata": {},
   "source": [
    "# Submit the MLP with 2 hidden layers\n",
    "Run these cells after training the MLP with 2 hidden layers"
   ]
  },
  {
   "cell_type": "code",
   "execution_count": 101,
   "metadata": {},
   "outputs": [],
   "source": [
    "## GRADED PART, DO NOT CHANGE!\n",
    "# Validation loss for MLP\n",
    "grader.set_answer(\"i8bgs\", s.run(loss, {input_X: X_val_flat, input_y: y_val_oh}))\n",
    "# Validation accuracy for MLP\n",
    "grader.set_answer(\"rE763\", accuracy_score(y_val, s.run(classes, {input_X: X_val_flat})))"
   ]
  },
  {
   "cell_type": "code",
   "execution_count": 102,
   "metadata": {},
   "outputs": [
    {
     "name": "stdout",
     "output_type": "stream",
     "text": [
      "Submitted to Coursera platform. See results on assignment page!\n"
     ]
    }
   ],
   "source": [
    "# you can make submission with answers so far to check yourself at this stage\n",
    "grader.submit(COURSERA_EMAIL, COURSERA_TOKEN)"
   ]
  },
  {
   "cell_type": "code",
   "execution_count": null,
   "metadata": {},
   "outputs": [],
   "source": []
  }
 ],
 "metadata": {
  "kernelspec": {
   "display_name": "Python 3",
   "language": "python",
   "name": "python3"
  },
  "language_info": {
   "codemirror_mode": {
    "name": "ipython",
    "version": 3
   },
   "file_extension": ".py",
   "mimetype": "text/x-python",
   "name": "python",
   "nbconvert_exporter": "python",
   "pygments_lexer": "ipython3",
   "version": "3.6.5"
  }
 },
 "nbformat": 4,
 "nbformat_minor": 1
}
